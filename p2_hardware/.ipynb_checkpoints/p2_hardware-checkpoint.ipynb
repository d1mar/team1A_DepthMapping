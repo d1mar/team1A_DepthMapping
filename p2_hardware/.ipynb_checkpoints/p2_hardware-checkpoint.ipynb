{
 "cells": [
  {
   "cell_type": "markdown",
   "metadata": {},
   "source": [
    "# Filtering and Scaling Depth Data"
   ]
  },
  {
   "cell_type": "markdown",
   "metadata": {},
   "source": [
    "Congratulations on making it to this part of the project. Before we continue, lets review the overarching goals of Depth Mapping and how we plan on getting there."
   ]
  },
  {
   "cell_type": "markdown",
   "metadata": {},
   "source": [
    "First, we want to write a function that will take raw depth and RGB values from the Kinect and filter out the object we are trying to map.  For example, if we want to map a water bottle that is between 2 to 4 feet away from the Kinect, we want to filter out all depth values that are not within 2 to 4 feet.\n"
   ]
  },
  {
   "cell_type": "markdown",
   "metadata": {},
   "source": [
    "After we filter out data not in our bounds, we want to scale our data from its original size (640 x 480) into the size of our cube (6 x 6)."
   ]
  },
  {
   "cell_type": "markdown",
   "metadata": {},
   "source": [
    "We already learned how to write Kinect still frames into .csv files, and in this notebook we will first read the data into an array."
   ]
  },
  {
   "cell_type": "markdown",
   "metadata": {},
   "source": [
    "Import the math and numpy modules first:"
   ]
  },
  {
   "cell_type": "code",
   "execution_count": 1,
   "metadata": {},
   "outputs": [],
   "source": [
    "import math\n",
    "import numpy as np"
   ]
  },
  {
   "cell_type": "markdown",
   "metadata": {},
   "source": [
    "Next, initialize an empty python list and read from depth_data.csv.  Notice how, in the for loop, we create a list for each line using line.split(',').  Each line in f is originally a string of numbers, for example: '878,877,657'.  line.split(',') creates a python list in the form \\['878', '877', '657'].  We then need to convert the string values into integers, which is where list comprehension becomes useful.  Given an example python list named 'list', \\[int(i) for i in list] will convert all of the values in 'list' to integers if possible.  (Lookup documentation for [File Input/Output](https://docs.python.org/3/tutorial/inputoutput.html) and [list comprehension](https://www.pythonforbeginners.com/basics/list-comprehensions-in-python) for more help)"
   ]
  },
  {
   "cell_type": "markdown",
   "metadata": {},
   "source": [
    "In the cell below, given an empty list depth_data, read the data that you wrote to a .csv file in the previous challenge into depth_data."
   ]
  },
  {
   "cell_type": "markdown",
   "metadata": {},
   "source": [
    "### Reading Depth Data"
   ]
  },
  {
   "cell_type": "code",
   "execution_count": 2,
   "metadata": {
    "scrolled": false
   },
   "outputs": [
    {
     "name": "stdout",
     "output_type": "stream",
     "text": [
      "[[2047 2047 2047 ... 2047 2047 2047]\n",
      " [2047 2047 2047 ... 2047 2047 2047]\n",
      " [2047 2047 2047 ... 2047 2047 2047]\n",
      " ...\n",
      " [2047 2047 2047 ... 2047 2047 2047]\n",
      " [2047 2047 2047 ... 2047 2047 2047]\n",
      " [2047 2047 2047 ... 2047 2047 2047]]\n"
     ]
    }
   ],
   "source": [
    "depth_data = []\n",
    "#loading csv file using numpy\n",
    "d = np.loadtxt('depthcapture.csv',delimiter=',')\n",
    "#print(d)\n",
    "#converting depth to integer type and saving to depth_data array\n",
    "depth_data = d.astype(int)\n",
    "print(depth_data)"
   ]
  },
  {
   "cell_type": "markdown",
   "metadata": {},
   "source": [
    "Check to make sure that the length of depth_data and the length of the first element of depth_data are 480 and 640, respectively.  These are the dimensions of the Kinect's camera.\n",
    "\n",
    "Example: \n",
    "\n",
    "len(depth_data) == 480\n",
    "\n",
    "len(depth_data[0]) == 640"
   ]
  },
  {
   "cell_type": "code",
   "execution_count": 3,
   "metadata": {},
   "outputs": [
    {
     "data": {
      "text/plain": [
       "True"
      ]
     },
     "execution_count": 3,
     "metadata": {},
     "output_type": "execute_result"
    }
   ],
   "source": [
    "len(depth_data) == 480"
   ]
  },
  {
   "cell_type": "code",
   "execution_count": 4,
   "metadata": {},
   "outputs": [
    {
     "data": {
      "text/plain": [
       "True"
      ]
     },
     "execution_count": 4,
     "metadata": {},
     "output_type": "execute_result"
    }
   ],
   "source": [
    "len(depth_data[0]) == 640"
   ]
  },
  {
   "cell_type": "markdown",
   "metadata": {},
   "source": [
    "Create a variable 'raw_depth_data' to save the original values of depth_data before we filter the array."
   ]
  },
  {
   "cell_type": "code",
   "execution_count": 5,
   "metadata": {},
   "outputs": [
    {
     "name": "stdout",
     "output_type": "stream",
     "text": [
      "[[2047 2047 2047 ... 2047 2047 2047]\n",
      " [2047 2047 2047 ... 2047 2047 2047]\n",
      " [2047 2047 2047 ... 2047 2047 2047]\n",
      " ...\n",
      " [2047 2047 2047 ... 2047 2047 2047]\n",
      " [2047 2047 2047 ... 2047 2047 2047]\n",
      " [2047 2047 2047 ... 2047 2047 2047]]\n"
     ]
    }
   ],
   "source": [
    "raw_depth_data = np.copy(depth_data)\n",
    "print(raw_depth_data)"
   ]
  },
  {
   "cell_type": "markdown",
   "metadata": {},
   "source": [
    "### Filtering Algorithm"
   ]
  },
  {
   "cell_type": "markdown",
   "metadata": {},
   "source": [
    "Now that we have read our csv file into an array, we want to set bounds for the data we wish to see.  For example, if we want to visualize a water bottle that is between 3 and 5 feet from the Kinect, then we will only want to see data values between 3-5 feet to eliminate any background noise in the data.  Later on we will be visualizing our data and we will see the difference between the filtered and unfiltered data sets. "
   ]
  },
  {
   "cell_type": "markdown",
   "metadata": {},
   "source": [
    "At this point we will want depth_data to be a numpy array.  This will allow us to utilize an assortment of numpy functions that will make our algorithm more efficient.  If you are unfamiliar with numpy, refer to its documentation [here](https://docs.scipy.org/doc/numpy-1.16.1/reference/index.html) or check out our numpy tutorial."
   ]
  },
  {
   "cell_type": "code",
   "execution_count": 6,
   "metadata": {},
   "outputs": [
    {
     "data": {
      "text/plain": [
       "array([[2047, 2047, 2047, ..., 2047, 2047, 2047],\n",
       "       [2047, 2047, 2047, ..., 2047, 2047, 2047],\n",
       "       [2047, 2047, 2047, ..., 2047, 2047, 2047],\n",
       "       ...,\n",
       "       [2047, 2047, 2047, ..., 2047, 2047, 2047],\n",
       "       [2047, 2047, 2047, ..., 2047, 2047, 2047],\n",
       "       [2047, 2047, 2047, ..., 2047, 2047, 2047]])"
      ]
     },
     "execution_count": 6,
     "metadata": {},
     "output_type": "execute_result"
    }
   ],
   "source": [
    "#making data into a numpy array\n",
    "depth_data = np.asarray(depth_data)\n",
    "#print(depth_data)\n",
    "depth_data"
   ]
  },
  {
   "cell_type": "markdown",
   "metadata": {},
   "source": [
    "We set our upper and lower depth bounds to values in feet that will capture the object we are trying to map."
   ]
  },
  {
   "cell_type": "code",
   "execution_count": 7,
   "metadata": {},
   "outputs": [],
   "source": [
    "#both values are in feet\n",
    "ft_lo_depth = 1.5   # You can set these variables to different values\n",
    "ft_u_depth = 3"
   ]
  },
  {
   "cell_type": "markdown",
   "metadata": {},
   "source": [
    "Using the distance formula given earlier, convert the values from feet to 11-bit depth values and assign the result to variables lo_depth and u_depth."
   ]
  },
  {
   "cell_type": "code",
   "execution_count": 8,
   "metadata": {
    "scrolled": true
   },
   "outputs": [
    {
     "name": "stdout",
     "output_type": "stream",
     "text": [
      "lo_depth = 342.42603838735363\n",
      "u_depth = 711.023111474549\n"
     ]
    },
    {
     "data": {
      "text/plain": [
       "1.447820030473509"
      ]
     },
     "execution_count": 8,
     "metadata": {},
     "output_type": "execute_result"
    }
   ],
   "source": [
    "#changed distance formula not sure if correct\n",
    "#distance(meters) = 0.1236 * tan(rawDisparity / 2842.5 + 1.1863)\n",
    "#meters to feet: 1m = 3.28084ft\n",
    "#function obtained from website provided in p2 documentation\n",
    "def conversion(x):\n",
    "    x *= 0.3048000097536\n",
    "    raw = 2842.5*(math.atan(x/0.1236) - 1.1863)\n",
    "    return raw\n",
    "#converting value to integer (do not want decimal) and printing to check value\n",
    "lo_depth = conversion(ft_lo_depth)\n",
    "print('lo_depth =' %d, lo_depth)\n",
    "u_depth = conversion(ft_u_depth)\n",
    "print('u_depth =' %d, u_depth)\n",
    "math.atan(1/0.1236)"
   ]
  },
  {
   "cell_type": "markdown",
   "metadata": {},
   "source": [
    "In order to make our algorithm as efficient as possible, we want to avoid for loops that run through every value of our data.  Flatten depth_data using np.flatten"
   ]
  },
  {
   "cell_type": "code",
   "execution_count": 9,
   "metadata": {},
   "outputs": [],
   "source": [
    "#making depth_data into a 1D array\n",
    "depth_data = depth_data.flatten()"
   ]
  },
  {
   "cell_type": "markdown",
   "metadata": {},
   "source": [
    "Now, because our array is one-dimensional, we want to be able to find the coordinates where our depth values are between lo_depth and u_depth.  By coordinates, we mean the x and y position where the depth value would be if it were a 2-dimensional array.  For example, if a value were at the position (2,3) in (rows, columns) of a 2D array with 5 rows and 4 columns, try to figure out what its position would be in a 1D array.  As in, if the 2D array were flattened, what single number would represent index (2,3) in our flattened array.  "
   ]
  },
  {
   "cell_type": "markdown",
   "metadata": {},
   "source": [
    "Using this example, extrapolate to the shape of raw_depth_data, the original 2D array, and figure out how to map the indices of raw_depth_data in a one dimensional array called 'coordinates'."
   ]
  },
  {
   "cell_type": "markdown",
   "metadata": {},
   "source": [
    "Now there are a variety of ways to filter a one dimensional array, but in any case, our filtering array of depth values will need to satisfy the condition of being between our set 'lo_depth' and 'u_depth' bounds."
   ]
  },
  {
   "cell_type": "markdown",
   "metadata": {},
   "source": [
    "First, find the values of the indices where the depth_data fits given upper and lower bounds, and wrap the resulting 1D list of values in a numpy array."
   ]
  },
  {
   "cell_type": "code",
   "execution_count": 10,
   "metadata": {},
   "outputs": [],
   "source": [
    "#fucntion prints index of valied values, array needs to be flatten\n",
    "coordinates = np.where((depth_data>lo_depth) & (depth_data<u_depth))\n",
    "#print(coordinates)"
   ]
  },
  {
   "cell_type": "code",
   "execution_count": 11,
   "metadata": {},
   "outputs": [],
   "source": [
    "#function prints x,y cordinate pairs of valid values\n",
    "#don't have to flatten array this way can use raw_depth_data\n",
    "cordinates2 = list(zip(*np.where((raw_depth_data>lo_depth) & (raw_depth_data<u_depth))))\n",
    "#print(cordinates2)"
   ]
  },
  {
   "cell_type": "code",
   "execution_count": 12,
   "metadata": {},
   "outputs": [],
   "source": [
    "#testing if both functions are correct\n",
    "#index value - (largest mutiple of 640) = col #\n",
    "#cordinate = (index/640,col#)\n",
    "#44310-(640*69)\n"
   ]
  },
  {
   "cell_type": "markdown",
   "metadata": {},
   "source": [
    "Next, figure out how to filter 'depth_data' such that it is between 'lo_depth' and 'u_depth'"
   ]
  },
  {
   "cell_type": "code",
   "execution_count": 13,
   "metadata": {},
   "outputs": [
    {
     "name": "stdout",
     "output_type": "stream",
     "text": [
      "[711 711 711 ... 642 641 641]\n"
     ]
    }
   ],
   "source": [
    "#will keep original values satisfying condition and zero out the rest\n",
    "depth_data = np.where((depth_data>lo_depth) & (depth_data<u_depth),depth_data,0)\n",
    "#deleting all occurences of 0 in filtered array\n",
    "depth_data = depth_data[depth_data != 0]\n",
    "print(depth_data)\n",
    "#note filtered array is flattened"
   ]
  },
  {
   "cell_type": "code",
   "execution_count": null,
   "metadata": {},
   "outputs": [],
   "source": []
  },
  {
   "cell_type": "markdown",
   "metadata": {},
   "source": [
    "Once we have filtered out depth values that are not within our set upper and lower bounds, compare the length of the raw_depth_data with depth_data to make sure that depth_data is in fact smaller.  When finding the length of raw_depth_data, consider that it is a 2D array with all rows being the same length and figure out how to calculate the total number of values in a 2D array."
   ]
  },
  {
   "cell_type": "code",
   "execution_count": 14,
   "metadata": {},
   "outputs": [
    {
     "name": "stdout",
     "output_type": "stream",
     "text": [
      "length of filtered array = 20766\n"
     ]
    }
   ],
   "source": [
    "# Compare the lengths of depth_data with raw_depth_data.\n",
    "print('length of filtered array =' %d, len(depth_data))\n"
   ]
  },
  {
   "cell_type": "code",
   "execution_count": 15,
   "metadata": {},
   "outputs": [
    {
     "name": "stdout",
     "output_type": "stream",
     "text": [
      "size of raw data array = 307200\n"
     ]
    }
   ],
   "source": [
    "#raw data is 480,640 array: therefore sieze of full array is 480*640\n",
    "size_raw_data = len(raw_depth_data)*len(raw_depth_data[0])\n",
    "print('size of raw data array =' %d, size_raw_data)"
   ]
  },
  {
   "cell_type": "markdown",
   "metadata": {},
   "source": [
    "Continue if your length of depth_data is considerably smaller than the number of values in raw_depth_data."
   ]
  },
  {
   "cell_type": "markdown",
   "metadata": {},
   "source": [
    "### Scaling Algorithm"
   ]
  },
  {
   "cell_type": "markdown",
   "metadata": {},
   "source": [
    "Now that we have created a 1D array that contains our filtered depth values, we want to scale our data in order to display it on a cube."
   ]
  },
  {
   "cell_type": "markdown",
   "metadata": {},
   "source": [
    "Let look at one method to scale any given object.  Given the image below, how would we map the water bottle?"
   ]
  },
  {
   "cell_type": "markdown",
   "metadata": {},
   "source": [
    "<img src=\"example_image.jpg\">"
   ]
  },
  {
   "cell_type": "markdown",
   "metadata": {},
   "source": [
    "Picture a 3D cube surrounding the water bottle.  In our scaling algorithm, this cube will have the width and height of largest axis of our object (in this case the y-axis/height), and the depth will be as given by our bounds.  Our original bounds for depth set above may not in fact capture this water bottle, but imagine that they do.  What we want to do is take our cube surrounding the water bottle and scale the cube into smaller numbers."
   ]
  },
  {
   "cell_type": "markdown",
   "metadata": {},
   "source": [
    "Essentially we are fixing new dimensions for our cube that ultimately enables us to map the image on a physical cube."
   ]
  },
  {
   "cell_type": "markdown",
   "metadata": {},
   "source": [
    "Now that we have some intuition for what we wish to accomplish with our scaling algorithm, lets figure out how to scale our cube into smaller dimensions. Lets review what our filtered data looks like."
   ]
  },
  {
   "cell_type": "code",
   "execution_count": 16,
   "metadata": {},
   "outputs": [
    {
     "data": {
      "text/plain": [
       "array([711, 711, 711, ..., 642, 641, 641])"
      ]
     },
     "execution_count": 16,
     "metadata": {},
     "output_type": "execute_result"
    }
   ],
   "source": [
    "depth_data"
   ]
  },
  {
   "cell_type": "markdown",
   "metadata": {},
   "source": [
    "Each value in our 1D array is a depth value representing the distance from the Kinect to whatever object you place in front of the Kinect."
   ]
  },
  {
   "cell_type": "markdown",
   "metadata": {},
   "source": [
    "First, lets find the x and y coordinates for each depth (z) value so that we can eventually transform our x, y, and z to the dimensions of the cube."
   ]
  },
  {
   "cell_type": "code",
   "execution_count": 17,
   "metadata": {},
   "outputs": [
    {
     "name": "stdout",
     "output_type": "stream",
     "text": [
      "[118 118 118 ... 367 367 367]\n"
     ]
    },
    {
     "data": {
      "text/plain": [
       "367"
      ]
     },
     "execution_count": 17,
     "metadata": {},
     "output_type": "execute_result"
    }
   ],
   "source": [
    "#separating x and y from coordinates2\n",
    "x,y = zip(*cordinates2)\n",
    "x_arr = np.asarray(x)                  # All the x-values (from 0 to 639) where depth_data fits the depth bounds\n",
    "y_arr = np.asarray(y)                  # All the y-values (from 0 to 479) where depth_data fits the depth bounds\n",
    "z_arr = depth_data    # All the z or depth values (11-bit) where depth_data fits the depth bounds\n",
    "print(x_arr)\n",
    "max(x_arr)"
   ]
  },
  {
   "cell_type": "markdown",
   "metadata": {},
   "source": [
    "We will store the depth data under a new variable to be used in visualizing the data later.  This will be done by creating a list of tuples using [set()](https://docs.python.org/2/library/sets.html) and [zip()](https://docs.python.org/3/library/functions.html#zip) functions."
   ]
  },
  {
   "cell_type": "code",
   "execution_count": 18,
   "metadata": {},
   "outputs": [
    {
     "name": "stdout",
     "output_type": "stream",
     "text": [
      "[[118  35 711]\n",
      " [118  36 711]\n",
      " [118  37 711]\n",
      " ...\n",
      " [367  70 642]\n",
      " [367  71 641]\n",
      " [367  72 641]]\n"
     ]
    }
   ],
   "source": [
    "raw_tuple_depth = list(zip(x_arr,y_arr,z_arr))\n",
    "raw_tuple_depth = np.asarray(raw_tuple_depth)\n",
    "print(raw_tuple_depth)\n"
   ]
  },
  {
   "cell_type": "markdown",
   "metadata": {},
   "source": [
    "Find bounds for each dimension (x, y, z) and store them under new variables."
   ]
  },
  {
   "cell_type": "code",
   "execution_count": 20,
   "metadata": {},
   "outputs": [
    {
     "name": "stdout",
     "output_type": "stream",
     "text": [
      "367 118 0 121 711 598\n"
     ]
    }
   ],
   "source": [
    "r  = max(x_arr)   # Rightmost x-value (max)\n",
    "le = min(x_arr)   # Leftmost x-value (min)\n",
    "u  = min(y_arr)   # Upper or smallest y-value (min)\n",
    "lo = max(y_arr)   # Lower or largest y-value (max)\n",
    "b  = max(z_arr)   # Maximum z-value\n",
    "f  = min(z_arr)   # Minimum z-value\n",
    "print(r, le, u, lo, b, f)"
   ]
  },
  {
   "cell_type": "markdown",
   "metadata": {},
   "source": [
    "We can now use the bounds of our object to scale our data.  Here is what this would look like in our example image:"
   ]
  },
  {
   "cell_type": "markdown",
   "metadata": {},
   "source": [
    "<img src=\"example_image_pt2.jpg\">"
   ]
  },
  {
   "cell_type": "markdown",
   "metadata": {},
   "source": [
    "raw_tuple_depth = ...\n",
    "raw_tuple_depth"
   ]
  },
  {
   "cell_type": "code",
   "execution_count": 21,
   "metadata": {},
   "outputs": [
    {
     "name": "stdout",
     "output_type": "stream",
     "text": [
      "x = 249\n",
      "y = 121\n"
     ]
    }
   ],
   "source": [
    "x_range = r - le  # potential legnth of cube\n",
    "y_range = lo - u  # potential length of cube\n",
    "print('x =' %d, x_range)\n",
    "print('y =' %d, y_range)"
   ]
  },
  {
   "cell_type": "markdown",
   "metadata": {},
   "source": [
    "Looking at the image above, it intuitively makes sense to map our object by forming a square around the largest range between x and y.  In this case the y-range is largest."
   ]
  },
  {
   "cell_type": "code",
   "execution_count": 22,
   "metadata": {},
   "outputs": [
    {
     "name": "stdout",
     "output_type": "stream",
     "text": [
      "249 242.5 60.5\n"
     ]
    }
   ],
   "source": [
    "max_range = max(x_range,y_range)   # find the maximum range between x and y.  A square will be formed around the maximum range which our object will be placed in\n",
    "x_mid = r - x_range/2    # calculate the midpoint of the x-axis of the object\n",
    "y_mid = lo - y_range/2    # calculate the midpoint of the y-axis of the object\n",
    "print(max_range,x_mid, y_mid)"
   ]
  },
  {
   "cell_type": "code",
   "execution_count": 23,
   "metadata": {},
   "outputs": [
    {
     "data": {
      "text/plain": [
       "60.5"
      ]
     },
     "execution_count": 23,
     "metadata": {},
     "output_type": "execute_result"
    }
   ],
   "source": [
    "y_mid\n"
   ]
  },
  {
   "cell_type": "markdown",
   "metadata": {},
   "source": [
    "Create a conditional below that will change upper bounds (u) or left bounds (le) based on if the x_range is larger or if the y_range is larger, respectively.  You can see what this will accomplish in the image below."
   ]
  },
  {
   "cell_type": "code",
   "execution_count": 24,
   "metadata": {},
   "outputs": [
    {
     "name": "stdout",
     "output_type": "stream",
     "text": [
      "-64.0 185.0\n",
      "249.0\n"
     ]
    }
   ],
   "source": [
    "#when running sometimes get negative value for u. Not sure if correct or should be zero\n",
    "# Make an if else statement\n",
    "if x_range > y_range:\n",
    "    u = y_mid-max_range/2\n",
    "    lo = y_mid+max_range/2\n",
    "elif x_range < y_range:\n",
    "    le = x_mid-max_range/2\n",
    "    r = x_mid+max_range/2\n",
    "print(u, lo)\n",
    "print(lo-u)"
   ]
  },
  {
   "cell_type": "markdown",
   "metadata": {},
   "source": [
    "Here is what our x-y mapping should look like:"
   ]
  },
  {
   "cell_type": "markdown",
   "metadata": {},
   "source": [
    "<img src=\"example_image_pt3.jpg\">"
   ]
  },
  {
   "cell_type": "markdown",
   "metadata": {},
   "source": [
    "As for the z_range of our cube, we will use the distance between 'u_depth' and 'lo_depth'."
   ]
  },
  {
   "cell_type": "code",
   "execution_count": 25,
   "metadata": {},
   "outputs": [],
   "source": [
    "z_range = u_depth - lo_depth"
   ]
  },
  {
   "cell_type": "code",
   "execution_count": 26,
   "metadata": {},
   "outputs": [
    {
     "data": {
      "text/plain": [
       "368.5970730871953"
      ]
     },
     "execution_count": 26,
     "metadata": {},
     "output_type": "execute_result"
    }
   ],
   "source": [
    "z_range"
   ]
  },
  {
   "cell_type": "markdown",
   "metadata": {},
   "source": [
    "Create a variable 'cube_length' that will represent the length of our cube for this project."
   ]
  },
  {
   "cell_type": "code",
   "execution_count": 27,
   "metadata": {},
   "outputs": [],
   "source": [
    "cube_length = 6\n",
    "x_arr = np.asarray(x_arr)\n",
    "y_arr = np.asarray(y_arr)\n",
    "z_arr = np.asarray(z_arr)"
   ]
  },
  {
   "cell_type": "markdown",
   "metadata": {},
   "source": [
    "Now we have all the components we need to scale 'depth_data' into our cube's values.  The resulting x, y, and z arrays should have values between 0 and the cube_length."
   ]
  },
  {
   "cell_type": "markdown",
   "metadata": {},
   "source": [
    "Try drawing a picture for this section to figure out how to scale our 3D cube from one set of dimensions into another.  Consider the picture above."
   ]
  },
  {
   "cell_type": "markdown",
   "metadata": {},
   "source": [
    "Variables 'x_new', 'y_new', and 'z_new' will represent our x, y, and z values in the dimensions of our cube. Ideally, we want to create these arrays using matrix manipulation allowed by numpy.  This means creating arrays and applying arithmetic operations on them to avoid using for loops.  This will make our algorithm much more efficient."
   ]
  },
  {
   "cell_type": "markdown",
   "metadata": {},
   "source": [
    "Hint: You will need to create additional variables below to scale the arrays and avoid for loops.  [This](https://www.pluralsight.com/guides/overview-basic-numpy-operations) article details how to apply arithmetic operations between numpy arrays."
   ]
  },
  {
   "cell_type": "code",
   "execution_count": 28,
   "metadata": {},
   "outputs": [
    {
     "data": {
      "text/plain": [
       "array([0., 0., 0., ..., 5., 5., 5.])"
      ]
     },
     "execution_count": 28,
     "metadata": {},
     "output_type": "execute_result"
    }
   ],
   "source": [
    "#need to normalize individual x, y, and z coordinates from 0 to 5.\n",
    "x_scaled = ((x_arr - le)*(cube_length-1))/max_range\n",
    "x_scaled"
   ]
  },
  {
   "cell_type": "code",
   "execution_count": 29,
   "metadata": {},
   "outputs": [
    {
     "data": {
      "text/plain": [
       "3.714859437751004"
      ]
     },
     "execution_count": 29,
     "metadata": {},
     "output_type": "execute_result"
    }
   ],
   "source": [
    "y_scaled = ((y_arr - u)*(cube_length-1))/max_range\n",
    "y_scaled.max()"
   ]
  },
  {
   "cell_type": "code",
   "execution_count": 30,
   "metadata": {},
   "outputs": [
    {
     "data": {
      "text/plain": [
       "array([4.99968649, 4.99968649, 4.99968649, ..., 4.06370511, 4.05014016,\n",
       "       4.05014016])"
      ]
     },
     "execution_count": 30,
     "metadata": {},
     "output_type": "execute_result"
    }
   ],
   "source": [
    "z_scaled = ((z_arr - lo_depth)*(cube_length-1))/(z_range)\n",
    "z_scaled"
   ]
  },
  {
   "cell_type": "code",
   "execution_count": 31,
   "metadata": {},
   "outputs": [],
   "source": [
    "# Create arrays x_new, y_new, and z_new that represent the x, y, and z values of our cube\n",
    "x_new = x_scaled\n",
    "y_new = y_scaled\n",
    "z_new = z_scaled"
   ]
  },
  {
   "cell_type": "markdown",
   "metadata": {},
   "source": [
    "We will now be able to create our array of values that will map our object by combining x_new, y_new, and z_new arrays.  The output will be a list of tuples."
   ]
  },
  {
   "cell_type": "code",
   "execution_count": 32,
   "metadata": {},
   "outputs": [
    {
     "data": {
      "text/plain": [
       "[(0.0, 1.9879518072289157, 4.999686494057652),\n",
       " (0.0, 2.0080321285140563, 4.999686494057652),\n",
       " (0.0, 2.0281124497991967, 4.999686494057652),\n",
       " (0.020080321285140562, 1.9879518072289157, 4.999686494057652),\n",
       " (0.020080321285140562, 2.0080321285140563, 4.986121546408659),\n",
       " (0.020080321285140562, 2.0281124497991967, 4.972556598759666),\n",
       " (0.020080321285140562, 2.0481927710843375, 4.958991651110672),\n",
       " (0.020080321285140562, 2.068273092369478, 4.945426703461679),\n",
       " (0.020080321285140562, 2.0883534136546187, 4.931861755812685),\n",
       " (0.020080321285140562, 2.108433734939759, 4.904731860514699),\n",
       " (0.040160642570281124, 1.9678714859437751, 4.999686494057652),\n",
       " (0.040160642570281124, 1.9879518072289157, 4.999686494057652),\n",
       " (0.040160642570281124, 2.0080321285140563, 4.986121546408659),\n",
       " (0.040160642570281124, 2.0281124497991967, 4.972556598759666),\n",
       " (0.040160642570281124, 2.0481927710843375, 4.958991651110672),\n",
       " (0.040160642570281124, 2.068273092369478, 4.945426703461679),\n",
       " (0.040160642570281124, 2.0883534136546187, 4.945426703461679),\n",
       " (0.040160642570281124, 2.108433734939759, 4.918296808163692),\n",
       " (0.040160642570281124, 2.1285140562248994, 4.891166912865705),\n",
       " (0.040160642570281124, 2.1485943775100402, 4.891166912865705),\n",
       " (0.040160642570281124, 2.208835341365462, 4.850472069918725),\n",
       " (0.040160642570281124, 2.2289156626506026, 4.836907122269731),\n",
       " (0.040160642570281124, 2.248995983935743, 4.836907122269731),\n",
       " (0.040160642570281124, 2.2690763052208833, 4.8233421746207386),\n",
       " (0.040160642570281124, 2.289156626506024, 4.836907122269731),\n",
       " (0.040160642570281124, 2.3092369477911645, 4.836907122269731),\n",
       " (0.060240963855421686, 1.9879518072289157, 4.999686494057652),\n",
       " (0.060240963855421686, 2.0080321285140563, 4.986121546408659),\n",
       " (0.060240963855421686, 2.0281124497991967, 4.972556598759666),\n",
       " (0.060240963855421686, 2.0481927710843375, 4.958991651110672),\n",
       " (0.060240963855421686, 2.068273092369478, 4.945426703461679),\n",
       " (0.060240963855421686, 2.0883534136546187, 4.931861755812685),\n",
       " (0.060240963855421686, 2.108433734939759, 4.918296808163692),\n",
       " (0.060240963855421686, 2.1285140562248994, 4.904731860514699),\n",
       " (0.060240963855421686, 2.1485943775100402, 4.904731860514699),\n",
       " (0.060240963855421686, 2.1686746987951806, 4.891166912865705),\n",
       " (0.060240963855421686, 2.1887550200803214, 4.877601965216712),\n",
       " (0.060240963855421686, 2.208835341365462, 4.850472069918725),\n",
       " (0.060240963855421686, 2.2289156626506026, 4.8233421746207386),\n",
       " (0.060240963855421686, 2.248995983935743, 4.8233421746207386),\n",
       " (0.060240963855421686, 2.2690763052208833, 4.809777226971745),\n",
       " (0.060240963855421686, 2.289156626506024, 4.8233421746207386),\n",
       " (0.060240963855421686, 2.3092369477911645, 4.8233421746207386),\n",
       " (0.060240963855421686, 2.3293172690763053, 4.8233421746207386),\n",
       " (0.060240963855421686, 2.3493975903614457, 4.8233421746207386),\n",
       " (0.08032128514056225, 2.0080321285140563, 4.986121546408659),\n",
       " (0.08032128514056225, 2.0281124497991967, 4.972556598759666),\n",
       " (0.08032128514056225, 2.0481927710843375, 4.958991651110672),\n",
       " (0.08032128514056225, 2.068273092369478, 4.945426703461679),\n",
       " (0.08032128514056225, 2.0883534136546187, 4.931861755812685),\n",
       " (0.08032128514056225, 2.108433734939759, 4.918296808163692),\n",
       " (0.08032128514056225, 2.1285140562248994, 4.891166912865705),\n",
       " (0.08032128514056225, 2.1485943775100402, 4.891166912865705),\n",
       " (0.08032128514056225, 2.1686746987951806, 4.877601965216712),\n",
       " (0.08032128514056225, 2.1887550200803214, 4.850472069918725),\n",
       " (0.08032128514056225, 2.208835341365462, 4.8233421746207386),\n",
       " (0.08032128514056225, 2.2289156626506026, 4.796212279322751),\n",
       " (0.08032128514056225, 2.248995983935743, 4.796212279322751),\n",
       " (0.08032128514056225, 2.2690763052208833, 4.796212279322751),\n",
       " (0.08032128514056225, 2.289156626506024, 4.809777226971745),\n",
       " (0.08032128514056225, 2.3092369477911645, 4.8233421746207386),\n",
       " (0.08032128514056225, 2.3293172690763053, 4.809777226971745),\n",
       " (0.08032128514056225, 2.3493975903614457, 4.8233421746207386),\n",
       " (0.10040160642570281, 2.0080321285140563, 4.986121546408659),\n",
       " (0.10040160642570281, 2.0281124497991967, 4.958991651110672),\n",
       " (0.10040160642570281, 2.0481927710843375, 4.958991651110672),\n",
       " (0.10040160642570281, 2.068273092369478, 4.945426703461679),\n",
       " (0.10040160642570281, 2.0883534136546187, 4.931861755812685),\n",
       " (0.10040160642570281, 2.108433734939759, 4.918296808163692),\n",
       " (0.10040160642570281, 2.1285140562248994, 4.891166912865705),\n",
       " (0.10040160642570281, 2.1485943775100402, 4.877601965216712),\n",
       " (0.10040160642570281, 2.1686746987951806, 4.877601965216712),\n",
       " (0.10040160642570281, 2.1887550200803214, 4.809777226971745),\n",
       " (0.10040160642570281, 2.208835341365462, 4.796212279322751),\n",
       " (0.10040160642570281, 2.2289156626506026, 4.782647331673758),\n",
       " (0.10040160642570281, 2.248995983935743, 4.782647331673758),\n",
       " (0.10040160642570281, 2.2690763052208833, 4.782647331673758),\n",
       " (0.10040160642570281, 2.289156626506024, 4.796212279322751),\n",
       " (0.10040160642570281, 2.3092369477911645, 4.809777226971745),\n",
       " (0.10040160642570281, 2.3293172690763053, 4.809777226971745),\n",
       " (0.10040160642570281, 2.3493975903614457, 4.8233421746207386),\n",
       " (0.12048192771084337, 2.0281124497991967, 4.958991651110672),\n",
       " (0.12048192771084337, 2.0481927710843375, 4.945426703461679),\n",
       " (0.12048192771084337, 2.068273092369478, 4.931861755812685),\n",
       " (0.12048192771084337, 2.0883534136546187, 4.931861755812685),\n",
       " (0.12048192771084337, 2.108433734939759, 4.904731860514699),\n",
       " (0.12048192771084337, 2.1285140562248994, 4.877601965216712),\n",
       " (0.12048192771084337, 2.1485943775100402, 4.877601965216712),\n",
       " (0.12048192771084337, 2.1686746987951806, 4.755517436375771),\n",
       " (0.12048192771084337, 2.1887550200803214, 4.782647331673758),\n",
       " (0.12048192771084337, 2.208835341365462, 4.769082384024765),\n",
       " (0.12048192771084337, 2.2289156626506026, 4.769082384024765),\n",
       " (0.12048192771084337, 2.248995983935743, 4.782647331673758),\n",
       " (0.12048192771084337, 2.2690763052208833, 4.782647331673758),\n",
       " (0.12048192771084337, 2.289156626506024, 4.796212279322751),\n",
       " (0.12048192771084337, 2.3092369477911645, 4.809777226971745),\n",
       " (0.12048192771084337, 2.3293172690763053, 4.809777226971745),\n",
       " (0.12048192771084337, 2.3493975903614457, 4.836907122269731),\n",
       " (0.12048192771084337, 2.3694779116465865, 4.8233421746207386),\n",
       " (0.14056224899598393, 2.068273092369478, 4.945426703461679),\n",
       " (0.14056224899598393, 2.0883534136546187, 4.931861755812685),\n",
       " (0.14056224899598393, 2.108433734939759, 4.931861755812685),\n",
       " (0.14056224899598393, 2.1285140562248994, 4.769082384024765),\n",
       " (0.14056224899598393, 2.1485943775100402, 4.769082384024765),\n",
       " (0.14056224899598393, 2.1686746987951806, 4.741952488726778),\n",
       " (0.14056224899598393, 2.1887550200803214, 4.755517436375771),\n",
       " (0.14056224899598393, 2.208835341365462, 4.755517436375771),\n",
       " (0.14056224899598393, 2.2289156626506026, 4.769082384024765),\n",
       " (0.14056224899598393, 2.248995983935743, 4.782647331673758),\n",
       " (0.14056224899598393, 2.2690763052208833, 4.782647331673758),\n",
       " (0.14056224899598393, 2.289156626506024, 4.796212279322751),\n",
       " (0.14056224899598393, 2.3092369477911645, 4.809777226971745),\n",
       " (0.14056224899598393, 2.3293172690763053, 4.809777226971745),\n",
       " (0.14056224899598393, 2.3493975903614457, 4.836907122269731),\n",
       " (0.14056224899598393, 2.3694779116465865, 4.836907122269731),\n",
       " (0.1606425702811245, 2.108433734939759, 4.741952488726778),\n",
       " (0.1606425702811245, 2.1285140562248994, 4.741952488726778),\n",
       " (0.1606425702811245, 2.1485943775100402, 4.741952488726778),\n",
       " (0.1606425702811245, 2.1686746987951806, 4.741952488726778),\n",
       " (0.1606425702811245, 2.1887550200803214, 4.755517436375771),\n",
       " (0.1606425702811245, 2.208835341365462, 4.755517436375771),\n",
       " (0.1606425702811245, 2.2289156626506026, 4.769082384024765),\n",
       " (0.1606425702811245, 2.248995983935743, 4.769082384024765),\n",
       " (0.1606425702811245, 2.2690763052208833, 4.782647331673758),\n",
       " (0.1606425702811245, 2.289156626506024, 4.796212279322751),\n",
       " (0.1606425702811245, 2.3092369477911645, 4.8233421746207386),\n",
       " (0.1606425702811245, 2.3293172690763053, 4.8233421746207386),\n",
       " (0.1606425702811245, 2.3493975903614457, 4.836907122269731),\n",
       " (0.18072289156626506, 1.4859437751004017, 4.904731860514699),\n",
       " (0.18072289156626506, 1.5863453815261044, 4.904731860514699),\n",
       " (0.18072289156626506, 1.606425702811245, 4.904731860514699),\n",
       " (0.18072289156626506, 2.108433734939759, 4.728387541077784),\n",
       " (0.18072289156626506, 2.1285140562248994, 4.728387541077784),\n",
       " (0.18072289156626506, 2.1485943775100402, 4.741952488726778),\n",
       " (0.18072289156626506, 2.1686746987951806, 4.728387541077784),\n",
       " (0.18072289156626506, 2.1887550200803214, 4.741952488726778),\n",
       " (0.18072289156626506, 2.208835341365462, 4.741952488726778),\n",
       " (0.18072289156626506, 2.2289156626506026, 4.741952488726778),\n",
       " (0.18072289156626506, 2.248995983935743, 4.755517436375771),\n",
       " (0.18072289156626506, 2.2690763052208833, 4.769082384024765),\n",
       " (0.18072289156626506, 2.289156626506024, 4.796212279322751),\n",
       " (0.18072289156626506, 2.3092369477911645, 4.809777226971745),\n",
       " (0.18072289156626506, 2.3293172690763053, 4.809777226971745),\n",
       " (0.18072289156626506, 2.3493975903614457, 4.8233421746207386),\n",
       " (0.18072289156626506, 2.3694779116465865, 4.809777226971745),\n",
       " (0.20080321285140562, 1.4257028112449799, 4.904731860514699),\n",
       " (0.20080321285140562, 1.4457831325301205, 4.904731860514699),\n",
       " (0.20080321285140562, 1.465863453815261, 4.904731860514699),\n",
       " (0.20080321285140562, 1.4859437751004017, 4.904731860514699),\n",
       " (0.20080321285140562, 1.5060240963855422, 4.891166912865705),\n",
       " (0.20080321285140562, 1.5261044176706828, 4.904731860514699),\n",
       " (0.20080321285140562, 1.5863453815261044, 4.904731860514699),\n",
       " (0.20080321285140562, 1.606425702811245, 4.904731860514699),\n",
       " (0.20080321285140562, 1.6265060240963856, 4.904731860514699),\n",
       " (0.20080321285140562, 1.6465863453815262, 4.999686494057652),\n",
       " (0.20080321285140562, 1.6666666666666667, 4.999686494057652),\n",
       " (0.20080321285140562, 2.108433734939759, 4.714822593428791),\n",
       " (0.20080321285140562, 2.1285140562248994, 4.728387541077784),\n",
       " (0.20080321285140562, 2.1485943775100402, 4.728387541077784),\n",
       " (0.20080321285140562, 2.1686746987951806, 4.728387541077784),\n",
       " (0.20080321285140562, 2.1887550200803214, 4.728387541077784),\n",
       " (0.20080321285140562, 2.208835341365462, 4.741952488726778),\n",
       " (0.20080321285140562, 2.2289156626506026, 4.741952488726778),\n",
       " (0.20080321285140562, 2.248995983935743, 4.741952488726778),\n",
       " (0.20080321285140562, 2.2690763052208833, 4.769082384024765),\n",
       " (0.20080321285140562, 2.289156626506024, 4.796212279322751),\n",
       " (0.20080321285140562, 2.3092369477911645, 4.8233421746207386),\n",
       " (0.20080321285140562, 2.3293172690763053, 4.8233421746207386),\n",
       " (0.20080321285140562, 2.3493975903614457, 4.836907122269731),\n",
       " (0.20080321285140562, 2.3694779116465865, 4.8233421746207386),\n",
       " (0.22088353413654618, 1.4457831325301205, 4.891166912865705),\n",
       " (0.22088353413654618, 1.465863453815261, 4.891166912865705),\n",
       " (0.22088353413654618, 1.4859437751004017, 4.904731860514699),\n",
       " (0.22088353413654618, 1.5060240963855422, 4.891166912865705),\n",
       " (0.22088353413654618, 1.5261044176706828, 4.891166912865705),\n",
       " (0.22088353413654618, 1.5461847389558232, 4.891166912865705),\n",
       " (0.22088353413654618, 1.5662650602409638, 4.904731860514699),\n",
       " (0.22088353413654618, 1.5863453815261044, 4.904731860514699),\n",
       " (0.22088353413654618, 1.606425702811245, 4.904731860514699),\n",
       " (0.22088353413654618, 1.6265060240963856, 4.904731860514699),\n",
       " (0.22088353413654618, 1.6465863453815262, 4.931861755812685),\n",
       " (0.22088353413654618, 1.6666666666666667, 4.999686494057652),\n",
       " (0.22088353413654618, 2.068273092369478, 4.687692698130804),\n",
       " (0.22088353413654618, 2.0883534136546187, 4.701257645779798),\n",
       " (0.22088353413654618, 2.108433734939759, 4.714822593428791),\n",
       " (0.22088353413654618, 2.1285140562248994, 4.728387541077784),\n",
       " (0.22088353413654618, 2.1485943775100402, 4.728387541077784),\n",
       " (0.22088353413654618, 2.1686746987951806, 4.728387541077784),\n",
       " (0.22088353413654618, 2.1887550200803214, 4.728387541077784),\n",
       " (0.22088353413654618, 2.208835341365462, 4.741952488726778),\n",
       " (0.22088353413654618, 2.2289156626506026, 4.741952488726778),\n",
       " (0.22088353413654618, 2.248995983935743, 4.741952488726778),\n",
       " (0.22088353413654618, 2.2690763052208833, 4.755517436375771),\n",
       " (0.22088353413654618, 2.289156626506024, 4.809777226971745),\n",
       " (0.22088353413654618, 2.3092369477911645, 4.836907122269731),\n",
       " (0.22088353413654618, 2.3293172690763053, 4.836907122269731),\n",
       " (0.22088353413654618, 2.3493975903614457, 4.850472069918725),\n",
       " (0.22088353413654618, 2.3694779116465865, 4.836907122269731),\n",
       " (0.24096385542168675, 1.4457831325301205, 4.850472069918725),\n",
       " (0.24096385542168675, 1.465863453815261, 4.850472069918725),\n",
       " (0.24096385542168675, 1.4859437751004017, 4.891166912865705),\n",
       " (0.24096385542168675, 1.5060240963855422, 4.864037017567719),\n",
       " (0.24096385542168675, 1.5261044176706828, 4.850472069918725),\n",
       " (0.24096385542168675, 1.5461847389558232, 4.850472069918725),\n",
       " (0.24096385542168675, 1.5662650602409638, 4.904731860514699),\n",
       " (0.24096385542168675, 1.5863453815261044, 4.877601965216712),\n",
       " (0.24096385542168675, 1.606425702811245, 4.877601965216712),\n",
       " (0.24096385542168675, 1.6265060240963856, 4.904731860514699),\n",
       " (0.24096385542168675, 1.6465863453815262, 4.877601965216712),\n",
       " (0.24096385542168675, 1.6666666666666667, 4.958991651110672),\n",
       " (0.24096385542168675, 1.6867469879518073, 4.999686494057652),\n",
       " (0.24096385542168675, 2.0481927710843375, 4.67412775048181),\n",
       " (0.24096385542168675, 2.068273092369478, 4.687692698130804),\n",
       " (0.24096385542168675, 2.0883534136546187, 4.687692698130804),\n",
       " (0.24096385542168675, 2.108433734939759, 4.714822593428791),\n",
       " (0.24096385542168675, 2.1285140562248994, 4.728387541077784),\n",
       " (0.24096385542168675, 2.1485943775100402, 4.728387541077784),\n",
       " (0.24096385542168675, 2.1686746987951806, 4.728387541077784),\n",
       " (0.24096385542168675, 2.1887550200803214, 4.728387541077784),\n",
       " (0.24096385542168675, 2.208835341365462, 4.741952488726778),\n",
       " (0.24096385542168675, 2.2289156626506026, 4.741952488726778),\n",
       " (0.24096385542168675, 2.248995983935743, 4.755517436375771),\n",
       " (0.24096385542168675, 2.2690763052208833, 4.796212279322751),\n",
       " (0.24096385542168675, 2.289156626506024, 4.8233421746207386),\n",
       " (0.24096385542168675, 2.3092369477911645, 4.836907122269731),\n",
       " (0.24096385542168675, 2.3293172690763053, 4.836907122269731),\n",
       " (0.24096385542168675, 2.3493975903614457, 4.850472069918725),\n",
       " (0.24096385542168675, 2.3694779116465865, 4.850472069918725),\n",
       " (0.24096385542168675, 2.389558232931727, 4.850472069918725),\n",
       " (0.26104417670682734, 1.4457831325301205, 4.836907122269731),\n",
       " (0.26104417670682734, 1.465863453815261, 4.850472069918725),\n",
       " (0.26104417670682734, 1.4859437751004017, 4.850472069918725),\n",
       " (0.26104417670682734, 1.5060240963855422, 4.864037017567719),\n",
       " (0.26104417670682734, 1.5261044176706828, 4.850472069918725),\n",
       " (0.26104417670682734, 1.5461847389558232, 4.850472069918725),\n",
       " (0.26104417670682734, 1.5662650602409638, 4.864037017567719),\n",
       " (0.26104417670682734, 1.5863453815261044, 4.877601965216712),\n",
       " (0.26104417670682734, 1.606425702811245, 4.864037017567719),\n",
       " (0.26104417670682734, 1.6265060240963856, 4.864037017567719),\n",
       " (0.26104417670682734, 1.6465863453815262, 4.864037017567719),\n",
       " (0.26104417670682734, 1.6666666666666667, 4.945426703461679),\n",
       " (0.26104417670682734, 1.6867469879518073, 4.986121546408659),\n",
       " (0.26104417670682734, 1.7068273092369477, 4.986121546408659),\n",
       " (0.26104417670682734, 1.927710843373494, 4.619867959885837),\n",
       " (0.26104417670682734, 1.9678714859437751, 4.63343290753483),\n",
       " (0.26104417670682734, 2.0080321285140563, 4.646997855183824),\n",
       " (0.26104417670682734, 2.0281124497991967, 4.67412775048181),\n",
       " (0.26104417670682734, 2.0481927710843375, 4.67412775048181),\n",
       " (0.26104417670682734, 2.068273092369478, 4.67412775048181),\n",
       " (0.26104417670682734, 2.0883534136546187, 4.687692698130804),\n",
       " (0.26104417670682734, 2.108433734939759, 4.701257645779798),\n",
       " (0.26104417670682734, 2.1285140562248994, 4.728387541077784),\n",
       " (0.26104417670682734, 2.1485943775100402, 4.728387541077784),\n",
       " (0.26104417670682734, 2.1686746987951806, 4.714822593428791),\n",
       " (0.26104417670682734, 2.1887550200803214, 4.728387541077784),\n",
       " (0.26104417670682734, 2.208835341365462, 4.741952488726778),\n",
       " (0.26104417670682734, 2.2289156626506026, 4.741952488726778),\n",
       " (0.26104417670682734, 2.248995983935743, 4.755517436375771),\n",
       " (0.26104417670682734, 2.2690763052208833, 4.796212279322751),\n",
       " (0.26104417670682734, 2.289156626506024, 4.8233421746207386),\n",
       " (0.26104417670682734, 2.3092369477911645, 4.836907122269731),\n",
       " (0.26104417670682734, 2.3293172690763053, 4.8233421746207386),\n",
       " (0.26104417670682734, 2.3493975903614457, 4.836907122269731),\n",
       " (0.26104417670682734, 2.3694779116465865, 4.850472069918725),\n",
       " (0.26104417670682734, 2.389558232931727, 4.850472069918725),\n",
       " (0.28112449799196787, 1.4257028112449799, 4.836907122269731),\n",
       " (0.28112449799196787, 1.4457831325301205, 4.836907122269731),\n",
       " (0.28112449799196787, 1.465863453815261, 4.836907122269731),\n",
       " (0.28112449799196787, 1.4859437751004017, 4.850472069918725),\n",
       " (0.28112449799196787, 1.5060240963855422, 4.850472069918725),\n",
       " (0.28112449799196787, 1.5261044176706828, 4.836907122269731),\n",
       " (0.28112449799196787, 1.5461847389558232, 4.836907122269731),\n",
       " (0.28112449799196787, 1.5662650602409638, 4.850472069918725),\n",
       " (0.28112449799196787, 1.5863453815261044, 4.850472069918725),\n",
       " (0.28112449799196787, 1.606425702811245, 4.850472069918725),\n",
       " (0.28112449799196787, 1.6265060240963856, 4.864037017567719),\n",
       " (0.28112449799196787, 1.6465863453815262, 4.850472069918725),\n",
       " (0.28112449799196787, 1.6666666666666667, 4.850472069918725),\n",
       " (0.28112449799196787, 1.6867469879518073, 4.972556598759666),\n",
       " (0.28112449799196787, 1.7068273092369477, 4.986121546408659),\n",
       " (0.28112449799196787, 1.9076305220883534, 4.619867959885837),\n",
       " (0.28112449799196787, 1.927710843373494, 4.619867959885837),\n",
       " (0.28112449799196787, 1.9477911646586346, 4.63343290753483),\n",
       " (0.28112449799196787, 1.9678714859437751, 4.63343290753483),\n",
       " (0.28112449799196787, 1.9879518072289157, 4.63343290753483),\n",
       " (0.28112449799196787, 2.0080321285140563, 4.646997855183824),\n",
       " (0.28112449799196787, 2.0281124497991967, 4.660562802832818),\n",
       " (0.28112449799196787, 2.0481927710843375, 4.67412775048181),\n",
       " (0.28112449799196787, 2.068273092369478, 4.67412775048181),\n",
       " (0.28112449799196787, 2.0883534136546187, 4.687692698130804),\n",
       " (0.28112449799196787, 2.108433734939759, 4.701257645779798),\n",
       " (0.28112449799196787, 2.1285140562248994, 4.728387541077784),\n",
       " (0.28112449799196787, 2.1485943775100402, 4.728387541077784),\n",
       " (0.28112449799196787, 2.1686746987951806, 4.714822593428791),\n",
       " (0.28112449799196787, 2.1887550200803214, 4.728387541077784),\n",
       " (0.28112449799196787, 2.208835341365462, 4.741952488726778),\n",
       " (0.28112449799196787, 2.2289156626506026, 4.741952488726778),\n",
       " (0.28112449799196787, 2.248995983935743, 4.769082384024765),\n",
       " (0.28112449799196787, 2.2690763052208833, 4.796212279322751),\n",
       " (0.28112449799196787, 2.289156626506024, 4.8233421746207386),\n",
       " (0.28112449799196787, 2.3092369477911645, 4.8233421746207386),\n",
       " (0.28112449799196787, 2.3293172690763053, 4.8233421746207386),\n",
       " (0.28112449799196787, 2.3493975903614457, 4.850472069918725),\n",
       " (0.28112449799196787, 2.3694779116465865, 4.850472069918725),\n",
       " (0.28112449799196787, 2.389558232931727, 4.877601965216712),\n",
       " (0.30120481927710846, 1.4257028112449799, 4.8233421746207386),\n",
       " (0.30120481927710846, 1.4457831325301205, 4.809777226971745),\n",
       " (0.30120481927710846, 1.465863453815261, 4.8233421746207386),\n",
       " (0.30120481927710846, 1.4859437751004017, 4.8233421746207386),\n",
       " (0.30120481927710846, 1.5060240963855422, 4.8233421746207386),\n",
       " (0.30120481927710846, 1.5261044176706828, 4.8233421746207386),\n",
       " (0.30120481927710846, 1.5461847389558232, 4.8233421746207386),\n",
       " (0.30120481927710846, 1.5662650602409638, 4.809777226971745),\n",
       " (0.30120481927710846, 1.5863453815261044, 4.809777226971745),\n",
       " (0.30120481927710846, 1.606425702811245, 4.8233421746207386),\n",
       " (0.30120481927710846, 1.6265060240963856, 4.850472069918725),\n",
       " (0.30120481927710846, 1.6465863453815262, 4.836907122269731),\n",
       " (0.30120481927710846, 1.6666666666666667, 4.850472069918725),\n",
       " (0.30120481927710846, 1.6867469879518073, 4.850472069918725),\n",
       " (0.30120481927710846, 1.7068273092369477, 4.850472069918725),\n",
       " (0.30120481927710846, 1.8875502008032128, 4.606303012236844),\n",
       " (0.30120481927710846, 1.9076305220883534, 4.619867959885837),\n",
       " (0.30120481927710846, 1.927710843373494, 4.619867959885837),\n",
       " (0.30120481927710846, 1.9477911646586346, 4.63343290753483),\n",
       " (0.30120481927710846, 1.9678714859437751, 4.63343290753483),\n",
       " (0.30120481927710846, 1.9879518072289157, 4.63343290753483),\n",
       " (0.30120481927710846, 2.0080321285140563, 4.63343290753483),\n",
       " (0.30120481927710846, 2.0281124497991967, 4.646997855183824),\n",
       " (0.30120481927710846, 2.0481927710843375, 4.660562802832818),\n",
       " (0.30120481927710846, 2.068273092369478, 4.660562802832818),\n",
       " (0.30120481927710846, 2.0883534136546187, 4.687692698130804),\n",
       " (0.30120481927710846, 2.108433734939759, 4.701257645779798),\n",
       " (0.30120481927710846, 2.1285140562248994, 4.714822593428791),\n",
       " (0.30120481927710846, 2.1485943775100402, 4.728387541077784),\n",
       " (0.30120481927710846, 2.1686746987951806, 4.714822593428791),\n",
       " (0.30120481927710846, 2.1887550200803214, 4.728387541077784),\n",
       " (0.30120481927710846, 2.208835341365462, 4.741952488726778),\n",
       " (0.30120481927710846, 2.2289156626506026, 4.741952488726778),\n",
       " (0.30120481927710846, 2.248995983935743, 4.755517436375771),\n",
       " (0.30120481927710846, 2.2690763052208833, 4.796212279322751),\n",
       " (0.30120481927710846, 2.289156626506024, 4.8233421746207386),\n",
       " (0.30120481927710846, 2.3092369477911645, 4.8233421746207386),\n",
       " (0.30120481927710846, 2.3293172690763053, 4.836907122269731),\n",
       " (0.30120481927710846, 2.3493975903614457, 4.850472069918725),\n",
       " (0.30120481927710846, 2.3694779116465865, 4.877601965216712),\n",
       " (0.30120481927710846, 2.389558232931727, 4.891166912865705),\n",
       " (0.30120481927710846, 2.4096385542168677, 4.904731860514699),\n",
       " (0.30120481927710846, 2.429718875502008, 4.904731860514699),\n",
       " (0.321285140562249, 1.4257028112449799, 4.809777226971745),\n",
       " (0.321285140562249, 1.4457831325301205, 4.809777226971745),\n",
       " (0.321285140562249, 1.465863453815261, 4.809777226971745),\n",
       " (0.321285140562249, 1.4859437751004017, 4.809777226971745),\n",
       " (0.321285140562249, 1.5060240963855422, 4.809777226971745),\n",
       " (0.321285140562249, 1.5261044176706828, 4.809777226971745),\n",
       " (0.321285140562249, 1.5461847389558232, 4.796212279322751),\n",
       " (0.321285140562249, 1.5662650602409638, 4.796212279322751),\n",
       " (0.321285140562249, 1.5863453815261044, 4.796212279322751),\n",
       " (0.321285140562249, 1.606425702811245, 4.796212279322751),\n",
       " (0.321285140562249, 1.6265060240963856, 4.8233421746207386),\n",
       " (0.321285140562249, 1.6465863453815262, 4.836907122269731),\n",
       " (0.321285140562249, 1.7269076305220883, 4.565608169289863),\n",
       " (0.321285140562249, 1.8473895582329318, 4.579173116938857),\n",
       " (0.321285140562249, 1.8674698795180722, 4.606303012236844),\n",
       " (0.321285140562249, 1.8875502008032128, 4.619867959885837),\n",
       " (0.321285140562249, 1.9076305220883534, 4.619867959885837),\n",
       " (0.321285140562249, 1.927710843373494, 4.619867959885837),\n",
       " (0.321285140562249, 1.9477911646586346, 4.619867959885837),\n",
       " (0.321285140562249, 1.9678714859437751, 4.619867959885837),\n",
       " (0.321285140562249, 1.9879518072289157, 4.63343290753483),\n",
       " (0.321285140562249, 2.0080321285140563, 4.63343290753483),\n",
       " (0.321285140562249, 2.0281124497991967, 4.63343290753483),\n",
       " (0.321285140562249, 2.0481927710843375, 4.660562802832818),\n",
       " (0.321285140562249, 2.068273092369478, 4.660562802832818),\n",
       " (0.321285140562249, 2.0883534136546187, 4.687692698130804),\n",
       " (0.321285140562249, 2.108433734939759, 4.687692698130804),\n",
       " (0.321285140562249, 2.1285140562248994, 4.714822593428791),\n",
       " (0.321285140562249, 2.1485943775100402, 4.714822593428791),\n",
       " (0.321285140562249, 2.1686746987951806, 4.714822593428791),\n",
       " (0.321285140562249, 2.1887550200803214, 4.728387541077784),\n",
       " (0.321285140562249, 2.208835341365462, 4.741952488726778),\n",
       " (0.321285140562249, 2.2289156626506026, 4.755517436375771),\n",
       " (0.321285140562249, 2.248995983935743, 4.769082384024765),\n",
       " (0.321285140562249, 2.2690763052208833, 4.796212279322751),\n",
       " (0.321285140562249, 2.289156626506024, 4.8233421746207386),\n",
       " (0.321285140562249, 2.3092369477911645, 4.836907122269731),\n",
       " (0.321285140562249, 2.3293172690763053, 4.850472069918725),\n",
       " (0.321285140562249, 2.3493975903614457, 4.864037017567719),\n",
       " (0.321285140562249, 2.3694779116465865, 4.891166912865705),\n",
       " (0.321285140562249, 2.389558232931727, 4.891166912865705),\n",
       " (0.321285140562249, 2.4096385542168677, 4.904731860514699),\n",
       " (0.321285140562249, 2.429718875502008, 4.904731860514699),\n",
       " (0.321285140562249, 2.4497991967871484, 4.904731860514699),\n",
       " (0.3413654618473896, 1.4457831325301205, 4.796212279322751),\n",
       " (0.3413654618473896, 1.465863453815261, 4.796212279322751),\n",
       " (0.3413654618473896, 1.4859437751004017, 4.796212279322751),\n",
       " (0.3413654618473896, 1.5060240963855422, 4.796212279322751),\n",
       " (0.3413654618473896, 1.5261044176706828, 4.796212279322751),\n",
       " (0.3413654618473896, 1.5461847389558232, 4.796212279322751),\n",
       " (0.3413654618473896, 1.5662650602409638, 4.796212279322751),\n",
       " (0.3413654618473896, 1.5863453815261044, 4.796212279322751),\n",
       " (0.3413654618473896, 1.606425702811245, 4.796212279322751),\n",
       " (0.3413654618473896, 1.6265060240963856, 4.809777226971745),\n",
       " (0.3413654618473896, 1.6465863453815262, 4.8233421746207386),\n",
       " (0.3413654618473896, 1.6666666666666667, 4.8233421746207386),\n",
       " (0.3413654618473896, 1.8273092369477912, 4.565608169289863),\n",
       " (0.3413654618473896, 1.8473895582329318, 4.579173116938857),\n",
       " (0.3413654618473896, 1.8674698795180722, 4.606303012236844),\n",
       " (0.3413654618473896, 1.8875502008032128, 4.619867959885837),\n",
       " (0.3413654618473896, 1.9076305220883534, 4.619867959885837),\n",
       " (0.3413654618473896, 1.927710843373494, 4.619867959885837),\n",
       " (0.3413654618473896, 1.9477911646586346, 4.619867959885837),\n",
       " (0.3413654618473896, 1.9678714859437751, 4.619867959885837),\n",
       " (0.3413654618473896, 1.9879518072289157, 4.63343290753483),\n",
       " (0.3413654618473896, 2.0080321285140563, 4.63343290753483),\n",
       " (0.3413654618473896, 2.0281124497991967, 4.63343290753483),\n",
       " (0.3413654618473896, 2.0481927710843375, 4.646997855183824),\n",
       " (0.3413654618473896, 2.068273092369478, 4.646997855183824),\n",
       " (0.3413654618473896, 2.0883534136546187, 4.67412775048181),\n",
       " (0.3413654618473896, 2.108433734939759, 4.687692698130804),\n",
       " (0.3413654618473896, 2.1285140562248994, 4.714822593428791),\n",
       " (0.3413654618473896, 2.1485943775100402, 4.714822593428791),\n",
       " (0.3413654618473896, 2.1686746987951806, 4.728387541077784),\n",
       " (0.3413654618473896, 2.1887550200803214, 4.741952488726778),\n",
       " (0.3413654618473896, 2.208835341365462, 4.755517436375771),\n",
       " (0.3413654618473896, 2.2289156626506026, 4.782647331673758),\n",
       " (0.3413654618473896, 2.248995983935743, 4.796212279322751),\n",
       " (0.3413654618473896, 2.2690763052208833, 4.809777226971745),\n",
       " (0.3413654618473896, 2.289156626506024, 4.8233421746207386),\n",
       " (0.3413654618473896, 2.3092369477911645, 4.8233421746207386),\n",
       " (0.3413654618473896, 2.3293172690763053, 4.850472069918725),\n",
       " (0.3413654618473896, 2.3493975903614457, 4.864037017567719),\n",
       " (0.3413654618473896, 2.3694779116465865, 4.891166912865705),\n",
       " (0.3413654618473896, 2.389558232931727, 4.891166912865705),\n",
       " (0.3413654618473896, 2.4096385542168677, 4.904731860514699),\n",
       " (0.3413654618473896, 2.429718875502008, 4.904731860514699),\n",
       " (0.3413654618473896, 2.4497991967871484, 4.904731860514699),\n",
       " (0.3614457831325301, 1.4457831325301205, 4.796212279322751),\n",
       " (0.3614457831325301, 1.465863453815261, 4.796212279322751),\n",
       " (0.3614457831325301, 1.4859437751004017, 4.796212279322751),\n",
       " (0.3614457831325301, 1.5060240963855422, 4.796212279322751),\n",
       " (0.3614457831325301, 1.5261044176706828, 4.796212279322751),\n",
       " (0.3614457831325301, 1.5461847389558232, 4.796212279322751),\n",
       " (0.3614457831325301, 1.5662650602409638, 4.796212279322751),\n",
       " (0.3614457831325301, 1.5863453815261044, 4.796212279322751),\n",
       " (0.3614457831325301, 1.606425702811245, 4.796212279322751),\n",
       " (0.3614457831325301, 1.6265060240963856, 4.782647331673758),\n",
       " (0.3614457831325301, 1.6465863453815262, 4.769082384024765),\n",
       " (0.3614457831325301, 1.7068273092369477, 4.565608169289863),\n",
       " (0.3614457831325301, 1.78714859437751, 4.55204322164087),\n",
       " (0.3614457831325301, 1.8072289156626506, 4.565608169289863),\n",
       " (0.3614457831325301, 1.8273092369477912, 4.579173116938857),\n",
       " (0.3614457831325301, 1.8473895582329318, 4.579173116938857),\n",
       " (0.3614457831325301, 1.8674698795180722, 4.59273806458785),\n",
       " (0.3614457831325301, 1.8875502008032128, 4.606303012236844),\n",
       " (0.3614457831325301, 1.9076305220883534, 4.606303012236844),\n",
       " (0.3614457831325301, 1.927710843373494, 4.619867959885837),\n",
       " (0.3614457831325301, 1.9477911646586346, 4.619867959885837),\n",
       " (0.3614457831325301, 1.9678714859437751, 4.619867959885837),\n",
       " (0.3614457831325301, 1.9879518072289157, 4.63343290753483),\n",
       " (0.3614457831325301, 2.0080321285140563, 4.63343290753483),\n",
       " (0.3614457831325301, 2.0281124497991967, 4.63343290753483),\n",
       " (0.3614457831325301, 2.0481927710843375, 4.646997855183824),\n",
       " (0.3614457831325301, 2.068273092369478, 4.646997855183824),\n",
       " (0.3614457831325301, 2.0883534136546187, 4.67412775048181),\n",
       " (0.3614457831325301, 2.108433734939759, 4.67412775048181),\n",
       " (0.3614457831325301, 2.1285140562248994, 4.701257645779798),\n",
       " (0.3614457831325301, 2.1485943775100402, 4.714822593428791),\n",
       " (0.3614457831325301, 2.1686746987951806, 4.728387541077784),\n",
       " (0.3614457831325301, 2.1887550200803214, 4.741952488726778),\n",
       " (0.3614457831325301, 2.208835341365462, 4.782647331673758),\n",
       " (0.3614457831325301, 2.2289156626506026, 4.796212279322751),\n",
       " (0.3614457831325301, 2.248995983935743, 4.809777226971745),\n",
       " (0.3614457831325301, 2.2690763052208833, 4.809777226971745),\n",
       " (0.3614457831325301, 2.289156626506024, 4.8233421746207386),\n",
       " (0.3614457831325301, 2.3092369477911645, 4.8233421746207386),\n",
       " (0.3614457831325301, 2.3293172690763053, 4.850472069918725),\n",
       " (0.3614457831325301, 2.3493975903614457, 4.877601965216712),\n",
       " (0.3614457831325301, 2.3694779116465865, 4.891166912865705),\n",
       " (0.3614457831325301, 2.389558232931727, 4.904731860514699),\n",
       " (0.3614457831325301, 2.4096385542168677, 4.904731860514699),\n",
       " (0.3614457831325301, 2.429718875502008, 4.904731860514699),\n",
       " (0.3614457831325301, 2.4497991967871484, 4.904731860514699),\n",
       " (0.3614457831325301, 2.4698795180722892, 4.904731860514699),\n",
       " (0.3815261044176707, 1.4457831325301205, 4.796212279322751),\n",
       " (0.3815261044176707, 1.465863453815261, 4.796212279322751),\n",
       " (0.3815261044176707, 1.4859437751004017, 4.796212279322751),\n",
       " (0.3815261044176707, 1.5060240963855422, 4.796212279322751),\n",
       " (0.3815261044176707, 1.5261044176706828, 4.796212279322751),\n",
       " (0.3815261044176707, 1.5461847389558232, 4.796212279322751),\n",
       " (0.3815261044176707, 1.5662650602409638, 4.796212279322751),\n",
       " (0.3815261044176707, 1.5863453815261044, 4.782647331673758),\n",
       " (0.3815261044176707, 1.606425702811245, 4.782647331673758),\n",
       " (0.3815261044176707, 1.6265060240963856, 4.782647331673758),\n",
       " (0.3815261044176707, 1.6465863453815262, 4.769082384024765),\n",
       " (0.3815261044176707, 1.7269076305220883, 4.565608169289863),\n",
       " (0.3815261044176707, 1.7469879518072289, 4.565608169289863),\n",
       " (0.3815261044176707, 1.7670682730923695, 4.55204322164087),\n",
       " (0.3815261044176707, 1.78714859437751, 4.55204322164087),\n",
       " (0.3815261044176707, 1.8072289156626506, 4.565608169289863),\n",
       " (0.3815261044176707, 1.8273092369477912, 4.565608169289863),\n",
       " (0.3815261044176707, 1.8473895582329318, 4.579173116938857),\n",
       " (0.3815261044176707, 1.8674698795180722, 4.59273806458785),\n",
       " (0.3815261044176707, 1.8875502008032128, 4.606303012236844),\n",
       " (0.3815261044176707, 1.9076305220883534, 4.606303012236844),\n",
       " (0.3815261044176707, 1.927710843373494, 4.619867959885837),\n",
       " (0.3815261044176707, 1.9477911646586346, 4.619867959885837),\n",
       " (0.3815261044176707, 1.9678714859437751, 4.619867959885837),\n",
       " (0.3815261044176707, 1.9879518072289157, 4.63343290753483),\n",
       " (0.3815261044176707, 2.0080321285140563, 4.63343290753483),\n",
       " (0.3815261044176707, 2.0281124497991967, 4.63343290753483),\n",
       " (0.3815261044176707, 2.0481927710843375, 4.63343290753483),\n",
       " (0.3815261044176707, 2.068273092369478, 4.646997855183824),\n",
       " (0.3815261044176707, 2.0883534136546187, 4.687692698130804),\n",
       " (0.3815261044176707, 2.108433734939759, 4.687692698130804),\n",
       " (0.3815261044176707, 2.1285140562248994, 4.701257645779798),\n",
       " (0.3815261044176707, 2.1485943775100402, 4.714822593428791),\n",
       " (0.3815261044176707, 2.1686746987951806, 4.728387541077784),\n",
       " (0.3815261044176707, 2.1887550200803214, 4.741952488726778),\n",
       " (0.3815261044176707, 2.208835341365462, 4.796212279322751),\n",
       " (0.3815261044176707, 2.2289156626506026, 4.796212279322751),\n",
       " (0.3815261044176707, 2.248995983935743, 4.809777226971745),\n",
       " (0.3815261044176707, 2.2690763052208833, 4.8233421746207386),\n",
       " (0.3815261044176707, 2.289156626506024, 4.809777226971745),\n",
       " (0.3815261044176707, 2.3092369477911645, 4.8233421746207386),\n",
       " (0.3815261044176707, 2.3293172690763053, 4.850472069918725),\n",
       " (0.3815261044176707, 2.3493975903614457, 4.864037017567719),\n",
       " (0.3815261044176707, 2.3694779116465865, 4.891166912865705),\n",
       " (0.3815261044176707, 2.389558232931727, 4.904731860514699),\n",
       " (0.3815261044176707, 2.4096385542168677, 4.904731860514699),\n",
       " (0.3815261044176707, 2.429718875502008, 4.904731860514699),\n",
       " (0.3815261044176707, 2.4497991967871484, 4.904731860514699),\n",
       " (0.3815261044176707, 2.4698795180722892, 4.904731860514699),\n",
       " (0.40160642570281124, 1.465863453815261, 4.796212279322751),\n",
       " (0.40160642570281124, 1.4859437751004017, 4.796212279322751),\n",
       " (0.40160642570281124, 1.5060240963855422, 4.796212279322751),\n",
       " (0.40160642570281124, 1.5261044176706828, 4.796212279322751),\n",
       " (0.40160642570281124, 1.5461847389558232, 4.796212279322751),\n",
       " (0.40160642570281124, 1.5662650602409638, 4.782647331673758),\n",
       " (0.40160642570281124, 1.5863453815261044, 4.782647331673758),\n",
       " (0.40160642570281124, 1.606425702811245, 4.782647331673758),\n",
       " (0.40160642570281124, 1.6265060240963856, 4.782647331673758),\n",
       " (0.40160642570281124, 1.6465863453815262, 4.782647331673758),\n",
       " (0.40160642570281124, 1.7269076305220883, 4.565608169289863),\n",
       " (0.40160642570281124, 1.7469879518072289, 4.565608169289863),\n",
       " (0.40160642570281124, 1.7670682730923695, 4.565608169289863),\n",
       " (0.40160642570281124, 1.78714859437751, 4.565608169289863),\n",
       " (0.40160642570281124, 1.8072289156626506, 4.565608169289863),\n",
       " (0.40160642570281124, 1.8273092369477912, 4.579173116938857),\n",
       " (0.40160642570281124, 1.8473895582329318, 4.579173116938857),\n",
       " (0.40160642570281124, 1.8674698795180722, 4.59273806458785),\n",
       " (0.40160642570281124, 1.8875502008032128, 4.606303012236844),\n",
       " (0.40160642570281124, 1.9076305220883534, 4.606303012236844),\n",
       " (0.40160642570281124, 1.927710843373494, 4.619867959885837),\n",
       " (0.40160642570281124, 1.9477911646586346, 4.619867959885837),\n",
       " (0.40160642570281124, 1.9678714859437751, 4.619867959885837),\n",
       " (0.40160642570281124, 1.9879518072289157, 4.63343290753483),\n",
       " (0.40160642570281124, 2.0080321285140563, 4.646997855183824),\n",
       " (0.40160642570281124, 2.0281124497991967, 4.63343290753483),\n",
       " (0.40160642570281124, 2.0481927710843375, 4.646997855183824),\n",
       " (0.40160642570281124, 2.068273092369478, 4.646997855183824),\n",
       " (0.40160642570281124, 2.0883534136546187, 4.67412775048181),\n",
       " (0.40160642570281124, 2.108433734939759, 4.687692698130804),\n",
       " (0.40160642570281124, 2.1285140562248994, 4.714822593428791),\n",
       " (0.40160642570281124, 2.1485943775100402, 4.728387541077784),\n",
       " (0.40160642570281124, 2.1686746987951806, 4.741952488726778),\n",
       " (0.40160642570281124, 2.1887550200803214, 4.741952488726778),\n",
       " (0.40160642570281124, 2.208835341365462, 4.796212279322751),\n",
       " (0.40160642570281124, 2.2289156626506026, 4.809777226971745),\n",
       " (0.40160642570281124, 2.248995983935743, 4.809777226971745),\n",
       " (0.40160642570281124, 2.2690763052208833, 4.809777226971745),\n",
       " (0.40160642570281124, 2.289156626506024, 4.809777226971745),\n",
       " (0.40160642570281124, 2.3092369477911645, 4.809777226971745),\n",
       " (0.40160642570281124, 2.3293172690763053, 4.850472069918725),\n",
       " (0.40160642570281124, 2.3493975903614457, 4.864037017567719),\n",
       " (0.40160642570281124, 2.3694779116465865, 4.891166912865705),\n",
       " (0.40160642570281124, 2.389558232931727, 4.904731860514699),\n",
       " (0.40160642570281124, 2.4096385542168677, 4.904731860514699),\n",
       " (0.40160642570281124, 2.429718875502008, 4.904731860514699),\n",
       " (0.40160642570281124, 2.4497991967871484, 4.904731860514699),\n",
       " (0.40160642570281124, 2.4698795180722892, 4.904731860514699),\n",
       " (0.40160642570281124, 2.4899598393574296, 4.918296808163692),\n",
       " (0.42168674698795183, 1.5060240963855422, 4.796212279322751),\n",
       " (0.42168674698795183, 1.5261044176706828, 4.796212279322751),\n",
       " (0.42168674698795183, 1.5461847389558232, 4.796212279322751),\n",
       " (0.42168674698795183, 1.5662650602409638, 4.782647331673758),\n",
       " (0.42168674698795183, 1.5863453815261044, 4.782647331673758),\n",
       " (0.42168674698795183, 1.606425702811245, 4.769082384024765),\n",
       " (0.42168674698795183, 1.6265060240963856, 4.769082384024765),\n",
       " (0.42168674698795183, 1.6465863453815262, 4.769082384024765),\n",
       " (0.42168674698795183, 1.6867469879518073, 4.55204322164087),\n",
       " (0.42168674698795183, 1.7068273092369477, 4.55204322164087),\n",
       " (0.42168674698795183, 1.7269076305220883, 4.565608169289863),\n",
       " (0.42168674698795183, 1.7469879518072289, 4.565608169289863),\n",
       " (0.42168674698795183, 1.7670682730923695, 4.565608169289863),\n",
       " (0.42168674698795183, 1.78714859437751, 4.565608169289863),\n",
       " (0.42168674698795183, 1.8072289156626506, 4.565608169289863),\n",
       " (0.42168674698795183, 1.8273092369477912, 4.579173116938857),\n",
       " (0.42168674698795183, 1.8473895582329318, 4.579173116938857),\n",
       " (0.42168674698795183, 1.8674698795180722, 4.59273806458785),\n",
       " (0.42168674698795183, 1.8875502008032128, 4.59273806458785),\n",
       " (0.42168674698795183, 1.9076305220883534, 4.606303012236844),\n",
       " (0.42168674698795183, 1.927710843373494, 4.619867959885837),\n",
       " (0.42168674698795183, 1.9477911646586346, 4.619867959885837),\n",
       " (0.42168674698795183, 1.9678714859437751, 4.619867959885837),\n",
       " (0.42168674698795183, 1.9879518072289157, 4.63343290753483),\n",
       " (0.42168674698795183, 2.0080321285140563, 4.63343290753483),\n",
       " (0.42168674698795183, 2.0281124497991967, 4.63343290753483),\n",
       " (0.42168674698795183, 2.0481927710843375, 4.646997855183824),\n",
       " (0.42168674698795183, 2.068273092369478, 4.660562802832818),\n",
       " (0.42168674698795183, 2.0883534136546187, 4.67412775048181),\n",
       " (0.42168674698795183, 2.108433734939759, 4.687692698130804),\n",
       " (0.42168674698795183, 2.1285140562248994, 4.728387541077784),\n",
       " (0.42168674698795183, 2.1485943775100402, 4.728387541077784),\n",
       " (0.42168674698795183, 2.1686746987951806, 4.741952488726778),\n",
       " (0.42168674698795183, 2.1887550200803214, 4.755517436375771),\n",
       " (0.42168674698795183, 2.208835341365462, 4.796212279322751),\n",
       " (0.42168674698795183, 2.2289156626506026, 4.796212279322751),\n",
       " (0.42168674698795183, 2.248995983935743, 4.809777226971745),\n",
       " (0.42168674698795183, 2.2690763052208833, 4.8233421746207386),\n",
       " (0.42168674698795183, 2.289156626506024, 4.809777226971745),\n",
       " (0.42168674698795183, 2.3092369477911645, 4.809777226971745),\n",
       " (0.42168674698795183, 2.3293172690763053, 4.850472069918725),\n",
       " (0.42168674698795183, 2.3493975903614457, 4.864037017567719),\n",
       " (0.42168674698795183, 2.3694779116465865, 4.891166912865705),\n",
       " (0.42168674698795183, 2.389558232931727, 4.904731860514699),\n",
       " (0.42168674698795183, 2.4096385542168677, 4.904731860514699),\n",
       " (0.42168674698795183, 2.429718875502008, 4.904731860514699),\n",
       " (0.42168674698795183, 2.4497991967871484, 4.904731860514699),\n",
       " (0.42168674698795183, 2.4698795180722892, 4.918296808163692),\n",
       " (0.42168674698795183, 2.4899598393574296, 4.931861755812685),\n",
       " (0.44176706827309237, 1.5060240963855422, 4.796212279322751),\n",
       " (0.44176706827309237, 1.5261044176706828, 4.796212279322751),\n",
       " (0.44176706827309237, 1.5461847389558232, 4.782647331673758),\n",
       " (0.44176706827309237, 1.5662650602409638, 4.782647331673758),\n",
       " (0.44176706827309237, 1.5863453815261044, 4.782647331673758),\n",
       " (0.44176706827309237, 1.606425702811245, 4.782647331673758),\n",
       " (0.44176706827309237, 1.6265060240963856, 4.782647331673758),\n",
       " (0.44176706827309237, 1.6666666666666667, 4.55204322164087),\n",
       " (0.44176706827309237, 1.7068273092369477, 4.55204322164087),\n",
       " (0.44176706827309237, 1.7269076305220883, 4.55204322164087),\n",
       " (0.44176706827309237, 1.7469879518072289, 4.55204322164087),\n",
       " (0.44176706827309237, 1.7670682730923695, 4.565608169289863),\n",
       " (0.44176706827309237, 1.78714859437751, 4.55204322164087),\n",
       " (0.44176706827309237, 1.8072289156626506, 4.565608169289863),\n",
       " (0.44176706827309237, 1.8273092369477912, 4.579173116938857),\n",
       " (0.44176706827309237, 1.8473895582329318, 4.579173116938857),\n",
       " (0.44176706827309237, 1.8674698795180722, 4.59273806458785),\n",
       " (0.44176706827309237, 1.8875502008032128, 4.59273806458785),\n",
       " (0.44176706827309237, 1.9076305220883534, 4.606303012236844),\n",
       " (0.44176706827309237, 1.927710843373494, 4.606303012236844),\n",
       " (0.44176706827309237, 1.9477911646586346, 4.619867959885837),\n",
       " (0.44176706827309237, 1.9678714859437751, 4.619867959885837),\n",
       " (0.44176706827309237, 1.9879518072289157, 4.63343290753483),\n",
       " (0.44176706827309237, 2.0080321285140563, 4.646997855183824),\n",
       " (0.44176706827309237, 2.0281124497991967, 4.646997855183824),\n",
       " (0.44176706827309237, 2.0481927710843375, 4.646997855183824),\n",
       " (0.44176706827309237, 2.068273092369478, 4.67412775048181),\n",
       " (0.44176706827309237, 2.0883534136546187, 4.687692698130804),\n",
       " (0.44176706827309237, 2.108433734939759, 4.701257645779798),\n",
       " (0.44176706827309237, 2.1285140562248994, 4.714822593428791),\n",
       " (0.44176706827309237, 2.1485943775100402, 4.728387541077784),\n",
       " (0.44176706827309237, 2.1686746987951806, 4.755517436375771),\n",
       " (0.44176706827309237, 2.1887550200803214, 4.769082384024765),\n",
       " (0.44176706827309237, 2.208835341365462, 4.782647331673758),\n",
       " (0.44176706827309237, 2.2289156626506026, 4.796212279322751),\n",
       " (0.44176706827309237, 2.248995983935743, 4.809777226971745),\n",
       " (0.44176706827309237, 2.2690763052208833, 4.8233421746207386),\n",
       " (0.44176706827309237, 2.289156626506024, 4.809777226971745),\n",
       " (0.44176706827309237, 2.3092369477911645, 4.809777226971745),\n",
       " (0.44176706827309237, 2.3293172690763053, 4.850472069918725),\n",
       " (0.44176706827309237, 2.3493975903614457, 4.864037017567719),\n",
       " (0.44176706827309237, 2.3694779116465865, 4.891166912865705),\n",
       " (0.44176706827309237, 2.389558232931727, 4.904731860514699),\n",
       " (0.44176706827309237, 2.4096385542168677, 4.918296808163692),\n",
       " (0.44176706827309237, 2.429718875502008, 4.918296808163692),\n",
       " (0.44176706827309237, 2.4497991967871484, 4.918296808163692),\n",
       " (0.44176706827309237, 2.4698795180722892, 4.945426703461679),\n",
       " (0.44176706827309237, 2.4899598393574296, 4.972556598759666),\n",
       " (0.46184738955823296, 1.5461847389558232, 4.782647331673758),\n",
       " (0.46184738955823296, 1.5662650602409638, 4.782647331673758),\n",
       " (0.46184738955823296, 1.5863453815261044, 4.782647331673758),\n",
       " (0.46184738955823296, 1.606425702811245, 4.782647331673758),\n",
       " (0.46184738955823296, 1.6265060240963856, 4.497783431044897),\n",
       " (0.46184738955823296, 1.6465863453815262, 4.524913326342883),\n",
       " (0.46184738955823296, 1.6666666666666667, 4.55204322164087),\n",
       " (0.46184738955823296, 1.6867469879518073, 4.55204322164087),\n",
       " (0.46184738955823296, 1.7068273092369477, 4.55204322164087),\n",
       " (0.46184738955823296, 1.7269076305220883, 4.55204322164087),\n",
       " (0.46184738955823296, 1.7469879518072289, 4.55204322164087),\n",
       " (0.46184738955823296, 1.7670682730923695, 4.55204322164087),\n",
       " (0.46184738955823296, 1.78714859437751, 4.55204322164087),\n",
       " (0.46184738955823296, 1.8072289156626506, 4.565608169289863),\n",
       " (0.46184738955823296, 1.8273092369477912, 4.579173116938857),\n",
       " (0.46184738955823296, 1.8473895582329318, 4.59273806458785),\n",
       " (0.46184738955823296, 1.8674698795180722, 4.59273806458785),\n",
       " (0.46184738955823296, 1.8875502008032128, 4.606303012236844),\n",
       " (0.46184738955823296, 1.9076305220883534, 4.606303012236844),\n",
       " (0.46184738955823296, 1.927710843373494, 4.619867959885837),\n",
       " (0.46184738955823296, 1.9477911646586346, 4.619867959885837),\n",
       " (0.46184738955823296, 1.9678714859437751, 4.619867959885837),\n",
       " (0.46184738955823296, 1.9879518072289157, 4.63343290753483),\n",
       " (0.46184738955823296, 2.0080321285140563, 4.646997855183824),\n",
       " (0.46184738955823296, 2.0281124497991967, 4.660562802832818),\n",
       " (0.46184738955823296, 2.0481927710843375, 4.660562802832818),\n",
       " (0.46184738955823296, 2.068273092369478, 4.67412775048181),\n",
       " (0.46184738955823296, 2.0883534136546187, 4.687692698130804),\n",
       " (0.46184738955823296, 2.108433734939759, 4.701257645779798),\n",
       " (0.46184738955823296, 2.1285140562248994, 4.714822593428791),\n",
       " (0.46184738955823296, 2.1485943775100402, 4.728387541077784),\n",
       " (0.46184738955823296, 2.1686746987951806, 4.755517436375771),\n",
       " (0.46184738955823296, 2.1887550200803214, 4.769082384024765),\n",
       " (0.46184738955823296, 2.208835341365462, 4.796212279322751),\n",
       " (0.46184738955823296, 2.2289156626506026, 4.809777226971745),\n",
       " (0.46184738955823296, 2.248995983935743, 4.8233421746207386),\n",
       " (0.46184738955823296, 2.2690763052208833, 4.8233421746207386),\n",
       " (0.46184738955823296, 2.289156626506024, 4.8233421746207386),\n",
       " (0.46184738955823296, 2.3092369477911645, 4.836907122269731),\n",
       " (0.46184738955823296, 2.3293172690763053, 4.850472069918725),\n",
       " (0.46184738955823296, 2.3493975903614457, 4.850472069918725),\n",
       " (0.46184738955823296, 2.3694779116465865, 4.891166912865705),\n",
       " (0.46184738955823296, 2.389558232931727, 4.918296808163692),\n",
       " (0.46184738955823296, 2.4096385542168677, 4.931861755812685),\n",
       " (0.46184738955823296, 2.429718875502008, 4.931861755812685),\n",
       " (0.46184738955823296, 2.4497991967871484, 4.931861755812685),\n",
       " (0.46184738955823296, 2.4698795180722892, 4.958991651110672),\n",
       " (0.46184738955823296, 2.4899598393574296, 4.972556598759666),\n",
       " (0.46184738955823296, 2.5100401606425704, 4.986121546408659),\n",
       " (0.4819277108433735, 1.6265060240963856, 4.497783431044897),\n",
       " (0.4819277108433735, 1.6465863453815262, 4.524913326342883),\n",
       " (0.4819277108433735, 1.6666666666666667, 4.538478273991877),\n",
       " (0.4819277108433735, 1.6867469879518073, 4.538478273991877),\n",
       " (0.4819277108433735, 1.7068273092369477, 4.55204322164087),\n",
       " (0.4819277108433735, 1.7269076305220883, 4.538478273991877),\n",
       " (0.4819277108433735, 1.7469879518072289, 4.538478273991877),\n",
       " (0.4819277108433735, 1.7670682730923695, 4.55204322164087),\n",
       " (0.4819277108433735, 1.78714859437751, 4.565608169289863),\n",
       " (0.4819277108433735, 1.8072289156626506, 4.565608169289863),\n",
       " (0.4819277108433735, 1.8273092369477912, 4.579173116938857),\n",
       " (0.4819277108433735, 1.8473895582329318, 4.59273806458785),\n",
       " (0.4819277108433735, 1.8674698795180722, 4.59273806458785),\n",
       " (0.4819277108433735, 1.8875502008032128, 4.606303012236844),\n",
       " (0.4819277108433735, 1.9076305220883534, 4.606303012236844),\n",
       " (0.4819277108433735, 1.927710843373494, 4.619867959885837),\n",
       " (0.4819277108433735, 1.9477911646586346, 4.619867959885837),\n",
       " (0.4819277108433735, 1.9678714859437751, 4.63343290753483),\n",
       " (0.4819277108433735, 1.9879518072289157, 4.646997855183824),\n",
       " (0.4819277108433735, 2.0080321285140563, 4.660562802832818),\n",
       " (0.4819277108433735, 2.0281124497991967, 4.660562802832818),\n",
       " (0.4819277108433735, 2.0481927710843375, 4.660562802832818),\n",
       " (0.4819277108433735, 2.068273092369478, 4.67412775048181),\n",
       " (0.4819277108433735, 2.0883534136546187, 4.701257645779798),\n",
       " (0.4819277108433735, 2.108433734939759, 4.714822593428791),\n",
       " (0.4819277108433735, 2.1285140562248994, 4.728387541077784),\n",
       " (0.4819277108433735, 2.1485943775100402, 4.741952488726778),\n",
       " (0.4819277108433735, 2.1686746987951806, 4.769082384024765),\n",
       " (0.4819277108433735, 2.1887550200803214, 4.782647331673758),\n",
       " (0.4819277108433735, 2.208835341365462, 4.796212279322751),\n",
       " (0.4819277108433735, 2.2289156626506026, 4.809777226971745),\n",
       " (0.4819277108433735, 2.248995983935743, 4.8233421746207386),\n",
       " (0.4819277108433735, 2.2690763052208833, 4.8233421746207386),\n",
       " (0.4819277108433735, 2.289156626506024, 4.8233421746207386),\n",
       " (0.4819277108433735, 2.3092369477911645, 4.836907122269731),\n",
       " (0.4819277108433735, 2.3293172690763053, 4.850472069918725),\n",
       " (0.4819277108433735, 2.3493975903614457, 4.850472069918725),\n",
       " (0.4819277108433735, 2.3694779116465865, 4.891166912865705),\n",
       " (0.4819277108433735, 2.389558232931727, 4.918296808163692),\n",
       " (0.4819277108433735, 2.4096385542168677, 4.931861755812685),\n",
       " (0.4819277108433735, 2.429718875502008, 4.931861755812685),\n",
       " (0.4819277108433735, 2.4497991967871484, 4.945426703461679),\n",
       " (0.4819277108433735, 2.4698795180722892, 4.958991651110672),\n",
       " (0.4819277108433735, 2.4899598393574296, 4.972556598759666),\n",
       " (0.4819277108433735, 2.5100401606425704, 4.999686494057652),\n",
       " (0.5020080321285141, 1.606425702811245, 4.5113483786938895),\n",
       " (0.5020080321285141, 1.6265060240963856, 4.5113483786938895),\n",
       " (0.5020080321285141, 1.6465863453815262, 4.5113483786938895),\n",
       " (0.5020080321285141, 1.6666666666666667, 4.524913326342883),\n",
       " (0.5020080321285141, 1.6867469879518073, 4.538478273991877),\n",
       " (0.5020080321285141, 1.7068273092369477, 4.538478273991877),\n",
       " (0.5020080321285141, 1.7269076305220883, 4.538478273991877),\n",
       " (0.5020080321285141, 1.7469879518072289, 4.538478273991877),\n",
       " (0.5020080321285141, 1.7670682730923695, 4.55204322164087),\n",
       " (0.5020080321285141, 1.78714859437751, 4.55204322164087),\n",
       " (0.5020080321285141, 1.8072289156626506, 4.565608169289863),\n",
       " (0.5020080321285141, 1.8273092369477912, 4.59273806458785),\n",
       " (0.5020080321285141, 1.8473895582329318, 4.59273806458785),\n",
       " (0.5020080321285141, 1.8674698795180722, 4.59273806458785),\n",
       " (0.5020080321285141, 1.8875502008032128, 4.606303012236844),\n",
       " (0.5020080321285141, 1.9076305220883534, 4.619867959885837),\n",
       " (0.5020080321285141, 1.927710843373494, 4.619867959885837),\n",
       " (0.5020080321285141, 1.9477911646586346, 4.63343290753483),\n",
       " (0.5020080321285141, 1.9678714859437751, 4.63343290753483),\n",
       " (0.5020080321285141, 1.9879518072289157, 4.646997855183824),\n",
       " (0.5020080321285141, 2.0080321285140563, 4.660562802832818),\n",
       " (0.5020080321285141, 2.0281124497991967, 4.660562802832818),\n",
       " (0.5020080321285141, 2.0481927710843375, 4.67412775048181),\n",
       " (0.5020080321285141, 2.068273092369478, 4.687692698130804),\n",
       " (0.5020080321285141, 2.0883534136546187, 4.701257645779798),\n",
       " (0.5020080321285141, 2.108433734939759, 4.701257645779798),\n",
       " (0.5020080321285141, 2.1285140562248994, 4.714822593428791),\n",
       " (0.5020080321285141, 2.1485943775100402, 4.741952488726778),\n",
       " (0.5020080321285141, 2.1686746987951806, 4.755517436375771),\n",
       " (0.5020080321285141, 2.1887550200803214, 4.769082384024765),\n",
       " (0.5020080321285141, 2.208835341365462, 4.782647331673758),\n",
       " (0.5020080321285141, 2.2289156626506026, 4.796212279322751),\n",
       " (0.5020080321285141, 2.248995983935743, 4.8233421746207386),\n",
       " (0.5020080321285141, 2.2690763052208833, 4.8233421746207386),\n",
       " (0.5020080321285141, 2.289156626506024, 4.836907122269731),\n",
       " (0.5020080321285141, 2.3092369477911645, 4.836907122269731),\n",
       " (0.5020080321285141, 2.3293172690763053, 4.850472069918725),\n",
       " (0.5020080321285141, 2.3493975903614457, 4.850472069918725),\n",
       " (0.5020080321285141, 2.3694779116465865, 4.891166912865705),\n",
       " (0.5020080321285141, 2.389558232931727, 4.931861755812685),\n",
       " (0.5020080321285141, 2.4096385542168677, 4.945426703461679),\n",
       " (0.5020080321285141, 2.429718875502008, 4.945426703461679),\n",
       " (0.5020080321285141, 2.4497991967871484, 4.958991651110672),\n",
       " (0.5020080321285141, 2.4698795180722892, 4.972556598759666),\n",
       " (0.5020080321285141, 2.4899598393574296, 4.986121546408659),\n",
       " (0.5020080321285141, 2.5100401606425704, 4.999686494057652),\n",
       " (0.5220883534136547, 1.5662650602409638, 4.497783431044897),\n",
       " (0.5220883534136547, 1.5863453815261044, 4.5113483786938895),\n",
       " (0.5220883534136547, 1.606425702811245, 4.5113483786938895),\n",
       " (0.5220883534136547, 1.6265060240963856, 4.5113483786938895),\n",
       " (0.5220883534136547, 1.6465863453815262, 4.5113483786938895),\n",
       " (0.5220883534136547, 1.6666666666666667, 4.524913326342883),\n",
       " (0.5220883534136547, 1.6867469879518073, 4.524913326342883),\n",
       " (0.5220883534136547, 1.7068273092369477, 4.524913326342883),\n",
       " (0.5220883534136547, 1.7269076305220883, 4.538478273991877),\n",
       " (0.5220883534136547, 1.7469879518072289, 4.538478273991877),\n",
       " (0.5220883534136547, 1.7670682730923695, 4.55204322164087),\n",
       " (0.5220883534136547, 1.78714859437751, 4.55204322164087),\n",
       " (0.5220883534136547, 1.8072289156626506, 4.565608169289863),\n",
       " (0.5220883534136547, 1.8273092369477912, 4.59273806458785),\n",
       " (0.5220883534136547, 1.8473895582329318, 4.59273806458785),\n",
       " (0.5220883534136547, 1.8674698795180722, 4.606303012236844),\n",
       " (0.5220883534136547, 1.8875502008032128, 4.606303012236844),\n",
       " (0.5220883534136547, 1.9076305220883534, 4.619867959885837),\n",
       " (0.5220883534136547, 1.927710843373494, 4.619867959885837),\n",
       " (0.5220883534136547, 1.9477911646586346, 4.619867959885837),\n",
       " (0.5220883534136547, 1.9678714859437751, 4.63343290753483),\n",
       " (0.5220883534136547, 1.9879518072289157, 4.63343290753483),\n",
       " (0.5220883534136547, 2.0080321285140563, 4.660562802832818),\n",
       " (0.5220883534136547, 2.0281124497991967, 4.660562802832818),\n",
       " (0.5220883534136547, 2.0481927710843375, 4.67412775048181),\n",
       " (0.5220883534136547, 2.068273092369478, 4.687692698130804),\n",
       " (0.5220883534136547, 2.0883534136546187, 4.701257645779798),\n",
       " (0.5220883534136547, 2.108433734939759, 4.714822593428791),\n",
       " (0.5220883534136547, 2.1285140562248994, 4.714822593428791),\n",
       " (0.5220883534136547, 2.1485943775100402, 4.741952488726778),\n",
       " (0.5220883534136547, 2.1686746987951806, 4.755517436375771),\n",
       " (0.5220883534136547, 2.1887550200803214, 4.769082384024765),\n",
       " (0.5220883534136547, 2.208835341365462, 4.769082384024765),\n",
       " (0.5220883534136547, 2.2289156626506026, 4.796212279322751),\n",
       " (0.5220883534136547, 2.248995983935743, 4.8233421746207386),\n",
       " (0.5220883534136547, 2.2690763052208833, 4.8233421746207386),\n",
       " (0.5220883534136547, 2.289156626506024, 4.8233421746207386),\n",
       " (0.5220883534136547, 2.3092369477911645, 4.836907122269731),\n",
       " (0.5220883534136547, 2.3293172690763053, 4.836907122269731),\n",
       " (0.5220883534136547, 2.3493975903614457, 4.850472069918725),\n",
       " (0.5220883534136547, 2.3694779116465865, 4.864037017567719),\n",
       " (0.5220883534136547, 2.389558232931727, 4.931861755812685),\n",
       " (0.5220883534136547, 2.4096385542168677, 4.945426703461679),\n",
       " (0.5220883534136547, 2.429718875502008, 4.958991651110672),\n",
       " (0.5220883534136547, 2.4497991967871484, 4.972556598759666),\n",
       " (0.5220883534136547, 2.4698795180722892, 4.972556598759666),\n",
       " (0.5220883534136547, 2.4899598393574296, 4.986121546408659),\n",
       " (0.5220883534136547, 2.5100401606425704, 4.999686494057652),\n",
       " (0.5421686746987951, 1.5662650602409638, 4.497783431044897),\n",
       " (0.5421686746987951, 1.5863453815261044, 4.5113483786938895),\n",
       " (0.5421686746987951, 1.606425702811245, 4.5113483786938895),\n",
       " (0.5421686746987951, 1.6265060240963856, 4.5113483786938895),\n",
       " (0.5421686746987951, 1.6465863453815262, 4.5113483786938895),\n",
       " (0.5421686746987951, 1.6666666666666667, 4.524913326342883),\n",
       " (0.5421686746987951, 1.6867469879518073, 4.524913326342883),\n",
       " (0.5421686746987951, 1.7068273092369477, 4.524913326342883),\n",
       " (0.5421686746987951, 1.7269076305220883, 4.538478273991877),\n",
       " (0.5421686746987951, 1.7469879518072289, 4.538478273991877),\n",
       " (0.5421686746987951, 1.7670682730923695, 4.565608169289863),\n",
       " (0.5421686746987951, 1.78714859437751, 4.55204322164087),\n",
       " (0.5421686746987951, 1.8072289156626506, 4.565608169289863),\n",
       " (0.5421686746987951, 1.8273092369477912, 4.59273806458785),\n",
       " (0.5421686746987951, 1.8473895582329318, 4.59273806458785),\n",
       " (0.5421686746987951, 1.8674698795180722, 4.59273806458785),\n",
       " (0.5421686746987951, 1.8875502008032128, 4.59273806458785),\n",
       " (0.5421686746987951, 1.9076305220883534, 4.606303012236844),\n",
       " (0.5421686746987951, 1.927710843373494, 4.619867959885837),\n",
       " (0.5421686746987951, 1.9477911646586346, 4.619867959885837),\n",
       " (0.5421686746987951, 1.9678714859437751, 4.63343290753483),\n",
       " (0.5421686746987951, 1.9879518072289157, 4.63343290753483),\n",
       " (0.5421686746987951, 2.0080321285140563, 4.660562802832818),\n",
       " (0.5421686746987951, 2.0281124497991967, 4.67412775048181),\n",
       " (0.5421686746987951, 2.0481927710843375, 4.687692698130804),\n",
       " (0.5421686746987951, 2.068273092369478, 4.687692698130804),\n",
       " (0.5421686746987951, 2.0883534136546187, 4.701257645779798),\n",
       " (0.5421686746987951, 2.108433734939759, 4.714822593428791),\n",
       " (0.5421686746987951, 2.1285140562248994, 4.714822593428791),\n",
       " (0.5421686746987951, 2.1485943775100402, 4.728387541077784),\n",
       " (0.5421686746987951, 2.1686746987951806, 4.755517436375771),\n",
       " (0.5421686746987951, 2.1887550200803214, 4.755517436375771),\n",
       " (0.5421686746987951, 2.208835341365462, 4.769082384024765),\n",
       " (0.5421686746987951, 2.2289156626506026, 4.796212279322751),\n",
       " (0.5421686746987951, 2.248995983935743, 4.8233421746207386),\n",
       " (0.5421686746987951, 2.2690763052208833, 4.8233421746207386),\n",
       " (0.5421686746987951, 2.289156626506024, 4.836907122269731),\n",
       " (0.5421686746987951, 2.3092369477911645, 4.836907122269731),\n",
       " (0.5421686746987951, 2.3293172690763053, 4.850472069918725),\n",
       " (0.5421686746987951, 2.3493975903614457, 4.850472069918725),\n",
       " (0.5421686746987951, 2.3694779116465865, 4.877601965216712),\n",
       " (0.5421686746987951, 2.389558232931727, 4.931861755812685),\n",
       " (0.5421686746987951, 2.4096385542168677, 4.945426703461679),\n",
       " (0.5421686746987951, 2.429718875502008, 4.958991651110672),\n",
       " (0.5421686746987951, 2.4497991967871484, 4.972556598759666),\n",
       " (0.5421686746987951, 2.4698795180722892, 4.972556598759666),\n",
       " (0.5421686746987951, 2.4899598393574296, 4.986121546408659),\n",
       " (0.5421686746987951, 2.5100401606425704, 4.999686494057652),\n",
       " (0.5622489959839357, 1.5461847389558232, 4.5113483786938895),\n",
       " (0.5622489959839357, 1.5662650602409638, 4.5113483786938895),\n",
       " (0.5622489959839357, 1.5863453815261044, 4.5113483786938895),\n",
       " (0.5622489959839357, 1.606425702811245, 4.5113483786938895),\n",
       " (0.5622489959839357, 1.6265060240963856, 4.5113483786938895),\n",
       " (0.5622489959839357, 1.6465863453815262, 4.5113483786938895),\n",
       " (0.5622489959839357, 1.6666666666666667, 4.5113483786938895),\n",
       " (0.5622489959839357, 1.6867469879518073, 4.524913326342883),\n",
       " (0.5622489959839357, 1.7068273092369477, 4.524913326342883),\n",
       " (0.5622489959839357, 1.7269076305220883, 4.538478273991877),\n",
       " (0.5622489959839357, 1.7469879518072289, 4.55204322164087),\n",
       " (0.5622489959839357, 1.7670682730923695, 4.565608169289863),\n",
       " (0.5622489959839357, 1.78714859437751, 4.565608169289863),\n",
       " (0.5622489959839357, 1.8072289156626506, 4.579173116938857),\n",
       " (0.5622489959839357, 1.8273092369477912, 4.579173116938857),\n",
       " (0.5622489959839357, 1.8473895582329318, 4.59273806458785),\n",
       " (0.5622489959839357, 1.8674698795180722, 4.606303012236844),\n",
       " (0.5622489959839357, 1.8875502008032128, 4.606303012236844),\n",
       " (0.5622489959839357, 1.9076305220883534, 4.619867959885837),\n",
       " (0.5622489959839357, 1.927710843373494, 4.619867959885837),\n",
       " (0.5622489959839357, 1.9477911646586346, 4.619867959885837),\n",
       " (0.5622489959839357, 1.9678714859437751, 4.63343290753483),\n",
       " (0.5622489959839357, 1.9879518072289157, 4.646997855183824),\n",
       " (0.5622489959839357, 2.0080321285140563, 4.660562802832818),\n",
       " (0.5622489959839357, 2.0281124497991967, 4.67412775048181),\n",
       " (0.5622489959839357, 2.0481927710843375, 4.687692698130804),\n",
       " (0.5622489959839357, 2.068273092369478, 4.687692698130804),\n",
       " (0.5622489959839357, 2.0883534136546187, 4.701257645779798),\n",
       " (0.5622489959839357, 2.108433734939759, 4.714822593428791),\n",
       " (0.5622489959839357, 2.1285140562248994, 4.714822593428791),\n",
       " (0.5622489959839357, 2.1485943775100402, 4.741952488726778),\n",
       " (0.5622489959839357, 2.1686746987951806, 4.755517436375771),\n",
       " (0.5622489959839357, 2.1887550200803214, 4.769082384024765),\n",
       " (0.5622489959839357, 2.208835341365462, 4.769082384024765),\n",
       " (0.5622489959839357, 2.2289156626506026, 4.796212279322751),\n",
       " (0.5622489959839357, 2.248995983935743, 4.8233421746207386),\n",
       " (0.5622489959839357, 2.2690763052208833, 4.8233421746207386),\n",
       " (0.5622489959839357, 2.289156626506024, 4.836907122269731),\n",
       " (0.5622489959839357, 2.3092369477911645, 4.850472069918725),\n",
       " (0.5622489959839357, 2.3293172690763053, 4.864037017567719),\n",
       " (0.5622489959839357, 2.3493975903614457, 4.877601965216712),\n",
       " (0.5622489959839357, 2.3694779116465865, 4.904731860514699),\n",
       " (0.5622489959839357, 2.389558232931727, 4.931861755812685),\n",
       " (0.5622489959839357, 2.4096385542168677, 4.945426703461679),\n",
       " (0.5622489959839357, 2.429718875502008, 4.958991651110672),\n",
       " (0.5622489959839357, 2.4497991967871484, 4.972556598759666),\n",
       " (0.5622489959839357, 2.4698795180722892, 4.972556598759666),\n",
       " (0.5622489959839357, 2.4899598393574296, 4.986121546408659),\n",
       " (0.5622489959839357, 2.5100401606425704, 4.999686494057652),\n",
       " (0.5823293172690763, 1.5461847389558232, 4.5113483786938895),\n",
       " (0.5823293172690763, 1.5662650602409638, 4.5113483786938895),\n",
       " (0.5823293172690763, 1.5863453815261044, 4.5113483786938895),\n",
       " (0.5823293172690763, 1.606425702811245, 4.5113483786938895),\n",
       " (0.5823293172690763, 1.6265060240963856, 4.5113483786938895),\n",
       " (0.5823293172690763, 1.6465863453815262, 4.5113483786938895),\n",
       " (0.5823293172690763, 1.6666666666666667, 4.524913326342883),\n",
       " (0.5823293172690763, 1.6867469879518073, 4.524913326342883),\n",
       " (0.5823293172690763, 1.7068273092369477, 4.538478273991877),\n",
       " (0.5823293172690763, 1.7269076305220883, 4.55204322164087),\n",
       " (0.5823293172690763, 1.7469879518072289, 4.55204322164087),\n",
       " (0.5823293172690763, 1.7670682730923695, 4.565608169289863),\n",
       " (0.5823293172690763, 1.78714859437751, 4.579173116938857),\n",
       " (0.5823293172690763, 1.8072289156626506, 4.579173116938857),\n",
       " (0.5823293172690763, 1.8273092369477912, 4.59273806458785),\n",
       " (0.5823293172690763, 1.8473895582329318, 4.59273806458785),\n",
       " (0.5823293172690763, 1.8674698795180722, 4.606303012236844),\n",
       " (0.5823293172690763, 1.8875502008032128, 4.606303012236844),\n",
       " (0.5823293172690763, 1.9076305220883534, 4.619867959885837),\n",
       " (0.5823293172690763, 1.927710843373494, 4.619867959885837),\n",
       " (0.5823293172690763, 1.9477911646586346, 4.63343290753483),\n",
       " (0.5823293172690763, 1.9678714859437751, 4.63343290753483),\n",
       " (0.5823293172690763, 1.9879518072289157, 4.646997855183824),\n",
       " (0.5823293172690763, 2.0080321285140563, 4.67412775048181),\n",
       " (0.5823293172690763, 2.0281124497991967, 4.67412775048181),\n",
       " (0.5823293172690763, 2.0481927710843375, 4.687692698130804),\n",
       " (0.5823293172690763, 2.068273092369478, 4.687692698130804),\n",
       " (0.5823293172690763, 2.0883534136546187, 4.701257645779798),\n",
       " (0.5823293172690763, 2.108433734939759, 4.714822593428791),\n",
       " (0.5823293172690763, 2.1285140562248994, 4.728387541077784),\n",
       " (0.5823293172690763, 2.1485943775100402, 4.741952488726778),\n",
       " (0.5823293172690763, 2.1686746987951806, 4.755517436375771),\n",
       " (0.5823293172690763, 2.1887550200803214, 4.769082384024765),\n",
       " (0.5823293172690763, 2.208835341365462, 4.769082384024765),\n",
       " (0.5823293172690763, 2.2289156626506026, 4.796212279322751),\n",
       " (0.5823293172690763, 2.248995983935743, 4.809777226971745),\n",
       " (0.5823293172690763, 2.2690763052208833, 4.8233421746207386),\n",
       " ...]"
      ]
     },
     "execution_count": 32,
     "metadata": {},
     "output_type": "execute_result"
    }
   ],
   "source": [
    "filtered_depth = list(zip(x_new,y_new,z_new))\n",
    "filtered_depth"
   ]
  },
  {
   "cell_type": "markdown",
   "metadata": {},
   "source": [
    "As a final check, make sure that the sets of your x, y, and z arrays are within the values 0 to the length of the cube."
   ]
  },
  {
   "cell_type": "code",
   "execution_count": 43,
   "metadata": {},
   "outputs": [
    {
     "data": {
      "text/plain": [
       "array([[0, 1, 4],\n",
       "       [0, 2, 4],\n",
       "       [0, 2, 4],\n",
       "       ...,\n",
       "       [5, 2, 4],\n",
       "       [5, 2, 4],\n",
       "       [5, 2, 4]])"
      ]
     },
     "execution_count": 43,
     "metadata": {},
     "output_type": "execute_result"
    }
   ],
   "source": [
    "filtered_depth = filtered_depth.astype(int)\n",
    "filtered_depth"
   ]
  },
  {
   "cell_type": "markdown",
   "metadata": {},
   "source": [
    "# Visualizing Data"
   ]
  },
  {
   "cell_type": "markdown",
   "metadata": {},
   "source": [
    "In this section we will be using sklearn.cluster and plotly to visualize our data."
   ]
  },
  {
   "cell_type": "code",
   "execution_count": 34,
   "metadata": {},
   "outputs": [],
   "source": [
    "# Make sure you have these following packages installed\n",
    "#from sklearn.cluster import SpectralClustering, KMeans\n",
    "import plotly.offline as py\n",
    "from plotly import graph_objs as go\n",
    "#to install plotly run \n",
    "    #sudo pip install plotly"
   ]
  },
  {
   "cell_type": "markdown",
   "metadata": {},
   "source": [
    "Lets look at our raw_tuple_depth variable we created earlier.  We will first visualize our raw data and compare that to our mapped data."
   ]
  },
  {
   "cell_type": "code",
   "execution_count": 35,
   "metadata": {
    "scrolled": false
   },
   "outputs": [],
   "source": [
    "#raw_tuple_depth\n",
    "raw_tuple_depth = np.array(raw_tuple_depth)\n",
    "filtered_depth = np.array(filtered_depth)"
   ]
  },
  {
   "cell_type": "markdown",
   "metadata": {},
   "source": [
    "Put the name of your fi"
   ]
  },
  {
   "cell_type": "code",
   "execution_count": 41,
   "metadata": {},
   "outputs": [
    {
     "data": {
      "text/plain": [
       "'p2_hardware.ipynb.html'"
      ]
     },
     "execution_count": 41,
     "metadata": {},
     "output_type": "execute_result"
    }
   ],
   "source": [
    "#plots = []\n",
    "#x, y , z = zip(*raw_tuple_depth)\n",
    "x, y, z = raw_tuple_depth[:, 0], raw_tuple_depth[:, 1], raw_tuple_depth[:, 2]\n",
    "plots = [go.Scatter3d(x=x, y=y, z=z, mode='markers', marker=dict(size=2), connectgaps=False)] #,color=c[k]\n",
    "\n",
    "file_name = 'p2_hardware.ipynb'  #the name of your file\n",
    "py.plot(plots,filename=file_name,auto_open=True)"
   ]
  },
  {
   "cell_type": "markdown",
   "metadata": {},
   "source": [
    "Now lets look at our updated 'filtered_depth'."
   ]
  },
  {
   "cell_type": "code",
   "execution_count": 46,
   "metadata": {},
   "outputs": [
    {
     "data": {
      "text/plain": [
       "'p2_hardware.html'"
      ]
     },
     "execution_count": 46,
     "metadata": {},
     "output_type": "execute_result"
    }
   ],
   "source": [
    "#x, y , z = zip(*filtered_depth)\n",
    "x, y, z = filtered_depth[:, 0], filtered_depth[:, 1], filtered_depth[:, 2]\n",
    "plots = [go.Scatter3d(x=x, y=y, z=z, mode='markers', marker=dict(size=2), connectgaps=False)]\n",
    "file_name = 'p2_hardware.html' #the name of your file\n",
    "py.plot(plots,filename=file_name,auto_open=True)"
   ]
  },
  {
   "cell_type": "code",
   "execution_count": 45,
   "metadata": {},
   "outputs": [
    {
     "data": {
      "text/plain": [
       "'p2_hardware_heatmap.html'"
      ]
     },
     "execution_count": 45,
     "metadata": {},
     "output_type": "execute_result"
    }
   ],
   "source": [
    "#ploting heat map\n",
    "x, y, z = filtered_depth[:, 0], filtered_depth[:, 1], filtered_depth[:, 2]\n",
    "plots = [go.Heatmap(x=x, y=y, z=z)]\n",
    "file_name = 'p2_hardware_heatmap.html' #the name of your file\n",
    "py.plot(plots,filename=file_name,auto_open=True)"
   ]
  },
  {
   "cell_type": "markdown",
   "metadata": {},
   "source": [
    "** If you want more information as to how these plots were generated, refer to [plotly](https://plot.ly/python/user-guide/) documentation"
   ]
  }
 ],
 "metadata": {
  "kernelspec": {
   "display_name": "Python 3",
   "language": "python",
   "name": "python3"
  },
  "language_info": {
   "codemirror_mode": {
    "name": "ipython",
    "version": 3
   },
   "file_extension": ".py",
   "mimetype": "text/x-python",
   "name": "python",
   "nbconvert_exporter": "python",
   "pygments_lexer": "ipython3",
   "version": "3.7.2"
  }
 },
 "nbformat": 4,
 "nbformat_minor": 2
}
